{
 "cells": [
  {
   "cell_type": "code",
   "execution_count": 2,
   "metadata": {},
   "outputs": [],
   "source": [
    "const PeerId =require(\"peer-id\")"
   ]
  },
  {
   "cell_type": "code",
   "execution_count": 3,
   "metadata": {},
   "outputs": [
    {
     "name": "stdout",
     "output_type": "stream",
     "text": [
      "[Function: PeerId] {\n",
      "  isPeerId: \u001b[36m[Function]\u001b[39m,\n",
      "  create: \u001b[36m[AsyncFunction]\u001b[39m,\n",
      "  createFromHexString: \u001b[36m[Function]\u001b[39m,\n",
      "  createFromBytes: \u001b[36m[Function]\u001b[39m,\n",
      "  createFromB58String: \u001b[36m[Function]\u001b[39m,\n",
      "  createFromCID: \u001b[36m[Function]\u001b[39m,\n",
      "  createFromPubKey: \u001b[36m[AsyncFunction]\u001b[39m,\n",
      "  createFromPrivKey: \u001b[36m[AsyncFunction]\u001b[39m,\n",
      "  createFromJSON: \u001b[36m[AsyncFunction]\u001b[39m,\n",
      "  createFromProtobuf: \u001b[36m[AsyncFunction]\u001b[39m\n",
      "}\n"
     ]
    }
   ],
   "source": [
    "PeerId"
   ]
  },
  {
   "cell_type": "code",
   "execution_count": 4,
   "metadata": {},
   "outputs": [],
   "source": [
    "const p = await PeerId.create()"
   ]
  },
  {
   "cell_type": "code",
   "execution_count": 5,
   "metadata": {},
   "outputs": [
    {
     "name": "stdout",
     "output_type": "stream",
     "text": [
      "PeerId {\n",
      "  _id: <Buffer 12 20 85 94 d8 8e e7 c5 c5 2a 79 36 61 40 2f c8 d2 2d af 12 15 2c c3 54 cd 92 c3 9a d1 83 c3 f9 03 92>,\n",
      "  _idB58String: \u001b[32m'QmXL6aDHpRcA9oU9pmNs5fhCpGCjfLShP7LesKvMzQZWgR'\u001b[39m,\n",
      "  _privKey: RsaPrivateKey {\n",
      "    _key: {\n",
      "      kty: \u001b[32m'RSA'\u001b[39m,\n",
      "      n: \u001b[32m'vtM2Xl15kPHoJdIitqfxQFto32HaklfjSEpNJI3VIzj2B_IjtPt5yk6xZ0qp_miDqPNItQy0WyINEjkFLhMY1FBEejekBAUJGIrBVOefNh8BMqEtzk2ozcnN8KwOTmomfeVmpIDb92manuhwKVPPjAHvqwtt0fCS7u2RHSPjL1x91_4lVyMd9V64InZjC-TG8nH5je_mI8XeYgLvXGWEiPr8cEkKW-yjhxUuGSrur_djcYixRna5-G2x0EMIm45OgsP4cm_c3hrrvsY9kgjz6EWLZflHuISoi6MSpnkfRbw6V2jipZ2nXTwFnUslfPWNktvds2EII7drFZqZEWIUDQ'\u001b[39m,\n",
      "      e: \u001b[32m'AQAB'\u001b[39m,\n",
      "      d: \u001b[32m'O-xPkmqAFkggwl-ujvVGCROrZxpvbK00rirG9sejOqBUgkJDfD3MDP-RLgKAR2fCkHd1SYVnzYZv3F0Th1hv35wlJMv8MVbzeEV6WJMzp-cslR2QKMyySY0pon4lL_Kdi8NR7C6a5KLA703GivPKpQimnmvEXLzTJzxq6V-vo9s4R-dpYpwHhIlCnOApZ_l3cwN-3G-BDqpK3wqAA31AiQfBE0hGsYvXv4KL9bq1VHbSfkfVhvW-qFmdYRFoEfLriTN5yMmBBcMJwSYortoXpraw2lx02NXphzz37BX0RUYg_LJedGPecWNi3XJ9EYzppgqCnSH5CuRGZEdOP_R-gQ'\u001b[39m,\n",
      "      p: \u001b[32m'8LAa-3gyyopOxg7hK-cE2H55-9JPC2HdUZqq5YjY2BwHbMHvuJw-YA3sH9p0Jz1xoB8SA-oLHnEEArpsozPSrnEN7GIlsV8KYNfR4Wy6C7c6YN20mUtanki9RVEds3lB8TexS8AUvse6Y2GwSoAEqFrXNkXl0LSaUNbCDHhooKk'\u001b[39m,\n",
      "      q: \u001b[32m'yvcHnpNj1dMLemJdD6Kf83j1IbVHnx8chuQJYl6BVCDRzL6zwMinurL_0EtE8lkk_50rcmn2m80rN6KQxZf1xdVRgDF8jSD5KaywquYIUgPJC18NnDMDf6xzeIjIVbdZ0OAvdvfRBWCw_9DCewGX8JORtQQJ8UQOtO7qOzRIIsU'\u001b[39m,\n",
      "      dp: \u001b[32m'NmqKXypoyVQFxU-d5xAfD1dg-ucsidVBdW6zjpum8w07PIKIUUO58nuTVAxO0IRaySndJ9dlVieVEYzWfPt9eYUD8dqqzPRA425H_GBZm8Z8Q2Q8rZ_UyA6IBED3pxkWKJQ_2HF__zYm1MtEUUOqSenn2FRrRglfDkHPs4QRm6k'\u001b[39m,\n",
      "      dq: \u001b[32m'IEE3zcSglgePCGj_Xw-6Gag8VJoJgskf8HPm5eIc7XC1xrL7wARjW3E85C5CC72M-q5QjEM4tLPbTWEhXrVyknj_Fb9HiuoVjsDp5o7d_aKqXYtCj3Mv-CdAxoP-Slj0BhTKlj510kP2fQEBFyk-qzXYbwrwRY5KRAi_4p7BY_0'\u001b[39m,\n",
      "      qi: \u001b[32m'aqeHgZijP5Fp5EzSc_GUpqV3U1kloTIlDtUjceDnXjPSxgm6AqSDBRzQt2nCPasgxepxPGLkXNbSX4Dqo682YM-BpYCGGzPq-QP3QHV52HLUOgSwUbAhx7DedhoTRBrTBkZ7w5XbEzzVGj50H_3Ohy4RewfyF506oJcGlLpTHpE'\u001b[39m\n",
      "    },\n",
      "    _publicKey: {\n",
      "      kty: \u001b[32m'RSA'\u001b[39m,\n",
      "      n: \u001b[32m'vtM2Xl15kPHoJdIitqfxQFto32HaklfjSEpNJI3VIzj2B_IjtPt5yk6xZ0qp_miDqPNItQy0WyINEjkFLhMY1FBEejekBAUJGIrBVOefNh8BMqEtzk2ozcnN8KwOTmomfeVmpIDb92manuhwKVPPjAHvqwtt0fCS7u2RHSPjL1x91_4lVyMd9V64InZjC-TG8nH5je_mI8XeYgLvXGWEiPr8cEkKW-yjhxUuGSrur_djcYixRna5-G2x0EMIm45OgsP4cm_c3hrrvsY9kgjz6EWLZflHuISoi6MSpnkfRbw6V2jipZ2nXTwFnUslfPWNktvds2EII7drFZqZEWIUDQ'\u001b[39m,\n",
      "      e: \u001b[32m'AQAB'\u001b[39m\n",
      "    }\n",
      "  },\n",
      "  _pubKey: RsaPublicKey {\n",
      "    _key: {\n",
      "      kty: \u001b[32m'RSA'\u001b[39m,\n",
      "      n: \u001b[32m'vtM2Xl15kPHoJdIitqfxQFto32HaklfjSEpNJI3VIzj2B_IjtPt5yk6xZ0qp_miDqPNItQy0WyINEjkFLhMY1FBEejekBAUJGIrBVOefNh8BMqEtzk2ozcnN8KwOTmomfeVmpIDb92manuhwKVPPjAHvqwtt0fCS7u2RHSPjL1x91_4lVyMd9V64InZjC-TG8nH5je_mI8XeYgLvXGWEiPr8cEkKW-yjhxUuGSrur_djcYixRna5-G2x0EMIm45OgsP4cm_c3hrrvsY9kgjz6EWLZflHuISoi6MSpnkfRbw6V2jipZ2nXTwFnUslfPWNktvds2EII7drFZqZEWIUDQ'\u001b[39m,\n",
      "      e: \u001b[32m'AQAB'\u001b[39m\n",
      "    }\n",
      "  }\n",
      "}\n"
     ]
    }
   ],
   "source": [
    "p"
   ]
  },
  {
   "cell_type": "code",
   "execution_count": 6,
   "metadata": {},
   "outputs": [
    {
     "name": "stdout",
     "output_type": "stream",
     "text": [
      "{\n",
      "  id: \u001b[32m'QmXL6aDHpRcA9oU9pmNs5fhCpGCjfLShP7LesKvMzQZWgR'\u001b[39m,\n",
      "  privKey: \u001b[32m'CAASpgkwggSiAgEAAoIBAQC+0zZeXXmQ8egl0iK2p/FAW2jfYdqSV+NISk0kjdUjOPYH8iO0+3nKTrFnSqn+aIOo80i1DLRbIg0SOQUuExjUUER6N6QEBQkYisFU5582HwEyoS3OTajNyc3wrA5OaiZ95WakgNv3aZqe6HApU8+MAe+rC23R8JLu7ZEdI+MvXH3X/iVXIx31XrgidmML5MbycfmN7+Yjxd5iAu9cZYSI+vxwSQpb7KOHFS4ZKu6v92NxiLFGdrn4bbHQQwibjk6Cw/hyb9zeGuu+xj2SCPPoRYtl+Ue4hKiLoxKmeR9FvDpXaOKlnaddPAWdSyV89Y2S292zYQgjt2sVmpkRYhQNAgMBAAECggEAO+xPkmqAFkggwl+ujvVGCROrZxpvbK00rirG9sejOqBUgkJDfD3MDP+RLgKAR2fCkHd1SYVnzYZv3F0Th1hv35wlJMv8MVbzeEV6WJMzp+cslR2QKMyySY0pon4lL/Kdi8NR7C6a5KLA703GivPKpQimnmvEXLzTJzxq6V+vo9s4R+dpYpwHhIlCnOApZ/l3cwN+3G+BDqpK3wqAA31AiQfBE0hGsYvXv4KL9bq1VHbSfkfVhvW+qFmdYRFoEfLriTN5yMmBBcMJwSYortoXpraw2lx02NXphzz37BX0RUYg/LJedGPecWNi3XJ9EYzppgqCnSH5CuRGZEdOP/R+gQKBgQDwsBr7eDLKik7GDuEr5wTYfnn70k8LYd1RmqrliNjYHAdswe+4nD5gDewf2nQnPXGgHxID6gsecQQCumyjM9KucQ3sYiWxXwpg19HhbLoLtzpg3bSZS1qeSL1FUR2zeUHxN7FLwBS+x7pjYbBKgASoWtc2ReXQtJpQ1sIMeGigqQKBgQDK9week2PV0wt6Yl0Pop/zePUhtUefHxyG5AliXoFUINHMvrPAyKe6sv/QS0TyWST/nStyafabzSs3opDFl/XF1VGAMXyNIPkprLCq5ghSA8kLXw2cMwN/rHN4iMhVt1nQ4C9299EFYLD/0MJ7AZfwk5G1BAnxRA607uo7NEgixQKBgDZqil8qaMlUBcVPnecQHw9XYPrnLInVQXVus46bpvMNOzyCiFFDufJ7k1QMTtCEWskp3SfXZVYnlRGM1nz7fXmFA/Haqsz0QONuR/xgWZvGfENkPK2f1MgOiARA96cZFiiUP9hxf/82JtTLRFFDqknp59hUa0YJXw5Bz7OEEZupAoGAIEE3zcSglgePCGj/Xw+6Gag8VJoJgskf8HPm5eIc7XC1xrL7wARjW3E85C5CC72M+q5QjEM4tLPbTWEhXrVyknj/Fb9HiuoVjsDp5o7d/aKqXYtCj3Mv+CdAxoP+Slj0BhTKlj510kP2fQEBFyk+qzXYbwrwRY5KRAi/4p7BY/0CgYBqp4eBmKM/kWnkTNJz8ZSmpXdTWSWhMiUO1SNx4OdeM9LGCboCpIMFHNC3acI9qyDF6nE8YuRc1tJfgOqjrzZgz4GlgIYbM+r5A/dAdXnYctQ6BLBRsCHHsN52GhNEGtMGRnvDldsTPNUaPnQf/c6HLhF7B/IXnTqglwaUulMekQ=='\u001b[39m,\n",
      "  pubKey: \u001b[32m'CAASpgIwggEiMA0GCSqGSIb3DQEBAQUAA4IBDwAwggEKAoIBAQC+0zZeXXmQ8egl0iK2p/FAW2jfYdqSV+NISk0kjdUjOPYH8iO0+3nKTrFnSqn+aIOo80i1DLRbIg0SOQUuExjUUER6N6QEBQkYisFU5582HwEyoS3OTajNyc3wrA5OaiZ95WakgNv3aZqe6HApU8+MAe+rC23R8JLu7ZEdI+MvXH3X/iVXIx31XrgidmML5MbycfmN7+Yjxd5iAu9cZYSI+vxwSQpb7KOHFS4ZKu6v92NxiLFGdrn4bbHQQwibjk6Cw/hyb9zeGuu+xj2SCPPoRYtl+Ue4hKiLoxKmeR9FvDpXaOKlnaddPAWdSyV89Y2S292zYQgjt2sVmpkRYhQNAgMBAAE='\u001b[39m\n",
      "}\n"
     ]
    }
   ],
   "source": [
    "p.toJSON()"
   ]
  },
  {
   "cell_type": "code",
   "execution_count": 13,
   "metadata": {},
   "outputs": [
    {
     "name": "stdout",
     "output_type": "stream",
     "text": [
      "PeerId {\n",
      "  _id: <Buffer 18 04 37 3c f0 e6 42>,\n",
      "  _idB58String: \u001b[32m'undefined'\u001b[39m,\n",
      "  _privKey: \u001b[1mnull\u001b[22m,\n",
      "  _pubKey: \u001b[90mundefined\u001b[39m\n",
      "}\n"
     ]
    }
   ],
   "source": [
    "await PeerId.createFromJSON(Object.assign(p.toJSON(), {privKey: undefined, pubKey: undefined, id: undefined}))"
   ]
  },
  {
   "cell_type": "code",
   "execution_count": 12,
   "metadata": {},
   "outputs": [
    {
     "name": "stderr",
     "output_type": "stream",
     "text": [
      "1:1 - Cannot find name 'Object'.\n"
     ]
    }
   ],
   "source": [
    "Object"
   ]
  },
  {
   "cell_type": "code",
   "execution_count": 7,
   "metadata": {},
   "outputs": [],
   "source": [
    "const pp = p.toJSON()"
   ]
  },
  {
   "cell_type": "code",
   "execution_count": 14,
   "metadata": {},
   "outputs": [
    {
     "name": "stdout",
     "output_type": "stream",
     "text": [
      "\u001b[33mtrue\u001b[39m\n"
     ]
    }
   ],
   "source": [
    "delete pp.privKey"
   ]
  },
  {
   "cell_type": "code",
   "execution_count": 15,
   "metadata": {},
   "outputs": [
    {
     "name": "stdout",
     "output_type": "stream",
     "text": [
      "{\n",
      "  id: \u001b[32m'QmXL6aDHpRcA9oU9pmNs5fhCpGCjfLShP7LesKvMzQZWgR'\u001b[39m,\n",
      "  pubKey: \u001b[32m'CAASpgIwggEiMA0GCSqGSIb3DQEBAQUAA4IBDwAwggEKAoIBAQC+0zZeXXmQ8egl0iK2p/FAW2jfYdqSV+NISk0kjdUjOPYH8iO0+3nKTrFnSqn+aIOo80i1DLRbIg0SOQUuExjUUER6N6QEBQkYisFU5582HwEyoS3OTajNyc3wrA5OaiZ95WakgNv3aZqe6HApU8+MAe+rC23R8JLu7ZEdI+MvXH3X/iVXIx31XrgidmML5MbycfmN7+Yjxd5iAu9cZYSI+vxwSQpb7KOHFS4ZKu6v92NxiLFGdrn4bbHQQwibjk6Cw/hyb9zeGuu+xj2SCPPoRYtl+Ue4hKiLoxKmeR9FvDpXaOKlnaddPAWdSyV89Y2S292zYQgjt2sVmpkRYhQNAgMBAAE='\u001b[39m\n",
      "}\n"
     ]
    }
   ],
   "source": [
    "pp"
   ]
  },
  {
   "cell_type": "code",
   "execution_count": 16,
   "metadata": {},
   "outputs": [
    {
     "name": "stdout",
     "output_type": "stream",
     "text": [
      "string\n"
     ]
    }
   ],
   "source": [
    "typeof \"\""
   ]
  },
  {
   "cell_type": "code",
   "execution_count": 17,
   "metadata": {},
   "outputs": [
    {
     "name": "stdout",
     "output_type": "stream",
     "text": [
      "[]\n"
     ]
    }
   ],
   "source": [
    "Array()"
   ]
  },
  {
   "cell_type": "code",
   "execution_count": 18,
   "metadata": {},
   "outputs": [],
   "source": [
    "class FuckError extends Error {\n",
    "    \n",
    "\n",
    "}"
   ]
  },
  {
   "cell_type": "code",
   "execution_count": 28,
   "metadata": {},
   "outputs": [
    {
     "name": "stdout",
     "output_type": "stream",
     "text": [
      "FuckError\n",
      "    at evalmachine.<anonymous>:2:22\n",
      "    at evalmachine.<anonymous>:4:3\n",
      "\u001b[90m    at sigintHandlersWrap (vm.js:269:15)\u001b[39m\n",
      "\u001b[90m    at Script.runInContext (vm.js:124:14)\u001b[39m\n",
      "\u001b[90m    at Object.runInContext (vm.js:290:6)\u001b[39m\n",
      "    at Object.execute (D:\\work\\tslab\\dist\\executor.js:159:38)\n",
      "    at JupyterHandlerImpl.handleExecuteImpl (D:\\work\\tslab\\dist\\jupyter.js:206:38)\n",
      "    at D:\\work\\tslab\\dist\\jupyter.js:164:57\n",
      "    at async JupyterHandlerImpl.handleExecute (D:\\work\\tslab\\dist\\jupyter.js:164:21)\n",
      "    at async ZmqServer.handleExecute (D:\\work\\tslab\\dist\\jupyter.js:362:25)\n"
     ]
    }
   ],
   "source": [
    "new FuckError()"
   ]
  },
  {
   "cell_type": "code",
   "execution_count": 24,
   "metadata": {},
   "outputs": [
    {
     "name": "stdout",
     "output_type": "stream",
     "text": [
      "function\n"
     ]
    }
   ],
   "source": [
    "typeof FuckError"
   ]
  },
  {
   "cell_type": "code",
   "execution_count": 26,
   "metadata": {},
   "outputs": [],
   "source": [
    "class FuckError extends Error {\n",
    "    constructor() { super(); return this }\n",
    "}"
   ]
  },
  {
   "cell_type": "code",
   "execution_count": 29,
   "metadata": {},
   "outputs": [],
   "source": [
    "const FuckErrorClass = FuckError"
   ]
  },
  {
   "cell_type": "code",
   "execution_count": 30,
   "metadata": {},
   "outputs": [
    {
     "name": "stdout",
     "output_type": "stream",
     "text": [
      "\u001b[36m[Function: FuckError]\u001b[39m\n"
     ]
    }
   ],
   "source": [
    "FuckErrorClass"
   ]
  },
  {
   "cell_type": "code",
   "execution_count": 32,
   "metadata": {},
   "outputs": [],
   "source": [
    "const FuckErrorConstructor = function(...args) { return new FuckErrorClass() }"
   ]
  },
  {
   "cell_type": "code",
   "execution_count": 33,
   "metadata": {},
   "outputs": [
    {
     "name": "stderr",
     "output_type": "stream",
     "text": [
      "1:1 - Cannot assign to 'FuckError' because it is not a variable.\n"
     ]
    }
   ],
   "source": [
    "FuckError = FuckErrorConstructor"
   ]
  },
  {
   "cell_type": "code",
   "execution_count": 35,
   "metadata": {},
   "outputs": [
    {
     "name": "stderr",
     "output_type": "stream",
     "text": [
      "1:1 - Value of type 'typeof FuckError' is not callable. Did you mean to include 'new'?\n"
     ]
    }
   ],
   "source": [
    "FuckError()"
   ]
  },
  {
   "cell_type": "code",
   "execution_count": 2,
   "metadata": {},
   "outputs": [
    {
     "name": "stdout",
     "output_type": "stream",
     "text": [
      "\n"
     ]
    }
   ],
   "source": [
    "(()=>{}).name"
   ]
  },
  {
   "cell_type": "code",
   "execution_count": 1,
   "metadata": {},
   "outputs": [
    {
     "name": "stdout",
     "output_type": "stream",
     "text": [
      "fuck\n"
     ]
    }
   ],
   "source": [
    "(function fuck(){}).name"
   ]
  },
  {
   "cell_type": "code",
   "execution_count": 39,
   "metadata": {},
   "outputs": [],
   "source": [
    "import _ from \"underscore\""
   ]
  },
  {
   "cell_type": "code",
   "execution_count": 42,
   "metadata": {},
   "outputs": [
    {
     "name": "stdout",
     "output_type": "stream",
     "text": [
      "isFunction\n"
     ]
    }
   ],
   "source": [
    "_.isFunction.name"
   ]
  },
  {
   "cell_type": "code",
   "execution_count": 43,
   "metadata": {},
   "outputs": [
    {
     "name": "stdout",
     "output_type": "stream",
     "text": [
      "[Map Iterator] {  }\n"
     ]
    }
   ],
   "source": [
    "(new Map()).values()"
   ]
  },
  {
   "cell_type": "code",
   "execution_count": 3,
   "metadata": {},
   "outputs": [],
   "source": [
    "const a = (()=>{})"
   ]
  },
  {
   "cell_type": "code",
   "execution_count": 7,
   "metadata": {},
   "outputs": [
    {
     "name": "stdout",
     "output_type": "stream",
     "text": [
      "\u001b[36m[Function: xxx]\u001b[39m\n"
     ]
    }
   ],
   "source": [
    "Object.defineProperty(a, \"name\", {\n",
    "    value: \"xxx\",\n",
    "    writable: false\n",
    "})"
   ]
  },
  {
   "cell_type": "code",
   "execution_count": 9,
   "metadata": {},
   "outputs": [
    {
     "name": "stdout",
     "output_type": "stream",
     "text": [
      "xxx\n"
     ]
    }
   ],
   "source": [
    "a.name"
   ]
  },
  {
   "cell_type": "code",
   "execution_count": 14,
   "metadata": {},
   "outputs": [
    {
     "name": "stdout",
     "output_type": "stream",
     "text": [
      "\u001b[33mfalse\u001b[39m\n"
     ]
    }
   ],
   "source": [
    "[Array] instanceof Array"
   ]
  },
  {
   "cell_type": "code",
   "execution_count": 15,
   "metadata": {},
   "outputs": [],
   "source": [
    "const x = []"
   ]
  },
  {
   "cell_type": "code",
   "execution_count": 22,
   "metadata": {},
   "outputs": [
    {
     "name": "stdout",
     "output_type": "stream",
     "text": [
      "\u001b[33mtrue\u001b[39m\n"
     ]
    }
   ],
   "source": [
    "Array.isArray(x)"
   ]
  },
  {
   "cell_type": "code",
   "execution_count": 24,
   "metadata": {},
   "outputs": [
    {
     "name": "stdout",
     "output_type": "stream",
     "text": [
      "\u001b[33mfalse\u001b[39m\n"
     ]
    }
   ],
   "source": [
    "x instanceof Object"
   ]
  },
  {
   "cell_type": "code",
   "execution_count": 27,
   "metadata": {},
   "outputs": [
    {
     "name": "stdout",
     "output_type": "stream",
     "text": [
      "\u001b[33mtrue\u001b[39m\n"
     ]
    }
   ],
   "source": [
    "Array.isArray(Array())"
   ]
  },
  {
   "cell_type": "code",
   "execution_count": 28,
   "metadata": {},
   "outputs": [
    {
     "name": "stdout",
     "output_type": "stream",
     "text": [
      "\u001b[33mtrue\u001b[39m\n"
     ]
    }
   ],
   "source": [
    "Array === Array"
   ]
  },
  {
   "cell_type": "code",
   "execution_count": 29,
   "metadata": {},
   "outputs": [
    {
     "name": "stdout",
     "output_type": "stream",
     "text": [
      "\u001b[33mtrue\u001b[39m\n"
     ]
    }
   ],
   "source": [
    "Array() instanceof Array"
   ]
  },
  {
   "cell_type": "code",
   "execution_count": 43,
   "metadata": {},
   "outputs": [
    {
     "name": "stdout",
     "output_type": "stream",
     "text": [
      "[object String]\n"
     ]
    }
   ],
   "source": [
    "Object.prototype.toString.call(Array.name)"
   ]
  },
  {
   "cell_type": "code",
   "execution_count": 45,
   "metadata": {},
   "outputs": [
    {
     "name": "stderr",
     "output_type": "stream",
     "text": [
      "1:4 - Cannot find name 'd'.\n"
     ]
    }
   ],
   "source": [
    "`${d}`"
   ]
  },
  {
   "cell_type": "code",
   "execution_count": 46,
   "metadata": {},
   "outputs": [
    {
     "name": "stderr",
     "output_type": "stream",
     "text": [
      "1:1 - The left-hand side of an 'instanceof' expression must be of type 'any', an object type or a type parameter.\n"
     ]
    }
   ],
   "source": [
    "\"\" instanceof String"
   ]
  },
  {
   "cell_type": "code",
   "execution_count": 47,
   "metadata": {},
   "outputs": [
    {
     "name": "stdout",
     "output_type": "stream",
     "text": [
      "\u001b[33m1588338990661\u001b[39m\n"
     ]
    }
   ],
   "source": [
    "Date.parse(\"2020-05-01T13:16:30.661Z\")"
   ]
  },
  {
   "cell_type": "code",
   "execution_count": 54,
   "metadata": {},
   "outputs": [
    {
     "name": "stdout",
     "output_type": "stream",
     "text": [
      "\u001b[33mNaN\u001b[39m\n"
     ]
    }
   ],
   "source": [
    "(new Date(\"2020-05-111\")).getTime()"
   ]
  },
  {
   "cell_type": "code",
   "execution_count": 4,
   "metadata": {},
   "outputs": [
    {
     "name": "stdout",
     "output_type": "stream",
     "text": [
      "\u001b[33mtrue\u001b[39m\n"
     ]
    }
   ],
   "source": [
    "(Object() instanceof Object)"
   ]
  },
  {
   "cell_type": "code",
   "execution_count": 5,
   "metadata": {},
   "outputs": [
    {
     "name": "stdout",
     "output_type": "stream",
     "text": [
      "object\n"
     ]
    }
   ],
   "source": [
    "typeof {}"
   ]
  },
  {
   "cell_type": "code",
   "execution_count": 1,
   "metadata": {},
   "outputs": [],
   "source": [
    "function abc(xxx = \"aaa\") {console.log(xxx)}"
   ]
  },
  {
   "cell_type": "code",
   "execution_count": 3,
   "metadata": {},
   "outputs": [
    {
     "name": "stdout",
     "output_type": "stream",
     "text": [
      "aaa\n"
     ]
    }
   ],
   "source": [
    "abc(undefined)"
   ]
  },
  {
   "cell_type": "code",
   "execution_count": 5,
   "metadata": {},
   "outputs": [],
   "source": [
    "const a = 1"
   ]
  },
  {
   "cell_type": "code",
   "execution_count": 6,
   "metadata": {},
   "outputs": [
    {
     "name": "stdout",
     "output_type": "stream",
     "text": [
      "1\n"
     ]
    }
   ],
   "source": [
    "a.toString()"
   ]
  },
  {
   "cell_type": "code",
   "execution_count": 3,
   "metadata": {},
   "outputs": [],
   "source": [
    "const crypto = require(\"libp2p-crypto\")\n",
    "const crypt = require(\"crypto\")"
   ]
  },
  {
   "cell_type": "code",
   "execution_count": 8,
   "metadata": {},
   "outputs": [],
   "source": [
    "const c = crypt.createHash(\"sha256\")"
   ]
  },
  {
   "cell_type": "code",
   "execution_count": 9,
   "metadata": {},
   "outputs": [
    {
     "name": "stdout",
     "output_type": "stream",
     "text": [
      "Hash {\n",
      "  _options: \u001b[90mundefined\u001b[39m,\n",
      "  writable: \u001b[33mtrue\u001b[39m,\n",
      "  readable: \u001b[33mtrue\u001b[39m,\n",
      "  [\u001b[32mSymbol(kHandle)\u001b[39m]: {},\n",
      "  [\u001b[32mSymbol(kState)\u001b[39m]: { [\u001b[32mSymbol(kFinalized)\u001b[39m]: \u001b[33mfalse\u001b[39m }\n",
      "}\n"
     ]
    }
   ],
   "source": [
    "c.update(\"one\")\n",
    "c.update(\"two\")"
   ]
  },
  {
   "cell_type": "code",
   "execution_count": 68,
   "metadata": {},
   "outputs": [
    {
     "name": "stderr",
     "output_type": "stream",
     "text": [
      "1:1 - Cannot find name 'c'. Did you mean 'C'?\n"
     ]
    }
   ],
   "source": [
    "c.digest(\"hex\")"
   ]
  },
  {
   "cell_type": "code",
   "execution_count": 11,
   "metadata": {},
   "outputs": [],
   "source": [
    "const multihashing = require(\"multihashing-async\")"
   ]
  },
  {
   "cell_type": "code",
   "execution_count": 35,
   "metadata": {},
   "outputs": [
    {
     "name": "stdout",
     "output_type": "stream",
     "text": [
      "\u001b[33mfalse\u001b[39m\n"
     ]
    }
   ],
   "source": [
    "await multihashing.validate(Buffer.from(\"onetwo\"), await multihashing(Buffer.from(\"onedtwo\"), \"sha2-256\"))"
   ]
  },
  {
   "cell_type": "code",
   "execution_count": 38,
   "metadata": {},
   "outputs": [],
   "source": [
    "const sha256 = await multihashing.createHash(\"sha2-256\")"
   ]
  },
  {
   "cell_type": "code",
   "execution_count": 46,
   "metadata": {},
   "outputs": [
    {
     "name": "stdout",
     "output_type": "stream",
     "text": [
      "<Buffer 25 b6 74 6d 51 72 ed 63 52 96 6a 01 3d 93 ac 84 6e 11 10 d5 a2 5e 8f 18 3b 59 31 f4 68 88 42 a1>\n"
     ]
    }
   ],
   "source": [
    "await sha256(\"onetwo\")"
   ]
  },
  {
   "cell_type": "code",
   "execution_count": 48,
   "metadata": {},
   "outputs": [
    {
     "name": "stdout",
     "output_type": "stream",
     "text": [
      "<Buffer 12 20 25 b6 74 6d 51 72 ed 63 52 96 6a 01 3d 93 ac 84 6e 11 10 d5 a2 5e 8f 18 3b 59 31 f4 68 88 42 a1>\n"
     ]
    }
   ],
   "source": [
    "await multihashing(Buffer.from(\"onetwo\"), \"sha2-256\")"
   ]
  },
  {
   "cell_type": "code",
   "execution_count": 51,
   "metadata": {},
   "outputs": [],
   "source": [
    "const multihashingx = require(\"multihashing\")"
   ]
  },
  {
   "cell_type": "code",
   "execution_count": 81,
   "metadata": {},
   "outputs": [
    {
     "name": "stdout",
     "output_type": "stream",
     "text": [
      "Hash {\n",
      "  _options: \u001b[90mundefined\u001b[39m,\n",
      "  writable: \u001b[33mtrue\u001b[39m,\n",
      "  readable: \u001b[33mtrue\u001b[39m,\n",
      "  [\u001b[32mSymbol(kHandle)\u001b[39m]: {},\n",
      "  [\u001b[32mSymbol(kState)\u001b[39m]: { [\u001b[32mSymbol(kFinalized)\u001b[39m]: \u001b[33mfalse\u001b[39m }\n",
      "}\n"
     ]
    }
   ],
   "source": [
    "multihashingx.createHash(\"sha2-256\").update(\"onetwo\")"
   ]
  },
  {
   "cell_type": "code",
   "execution_count": 83,
   "metadata": {},
   "outputs": [
    {
     "name": "stdout",
     "output_type": "stream",
     "text": [
      "[Function: MultiHash] { MultiHash: \u001b[36m[Circular]\u001b[39m }\n"
     ]
    }
   ],
   "source": [
    "require(\"multihash\")"
   ]
  },
  {
   "cell_type": "code",
   "execution_count": 88,
   "metadata": {},
   "outputs": [
    {
     "name": "stdout",
     "output_type": "stream",
     "text": [
      "<Buffer 12 20 25 b6 74 6d 51 72 ed 63 52 96 6a 01 3d 93 ac 84 6e 11 10 d5 a2 5e 8f 18 3b 59 31 f4 68 88 42 a1>\n"
     ]
    }
   ],
   "source": [
    "require(\"multihashes\").encode(require(\"multihashing\").createHash(\"sha2-256\").update(\"onetwo\").digest(), \"sha2-256\")"
   ]
  },
  {
   "cell_type": "code",
   "execution_count": 92,
   "metadata": {},
   "outputs": [
    {
     "name": "stdout",
     "output_type": "stream",
     "text": [
      "<Buffer 12 20 25 b6 74 6d 51 72 ed 63 52 96 6a 01 3d 93 ac 84 6e 11 10 d5 a2 5e 8f 18 3b 59 31 f4 68 88 42 a1>\n"
     ]
    }
   ],
   "source": [
    "Buffer.from(require(\"multihashes\").encode(require(\"multihashing\").createHash(\"sha2-256\").update(\"onetwo\").digest(), \"sha2-256\").toString(\"hex\"), \"hex\")"
   ]
  },
  {
   "cell_type": "code",
   "execution_count": 98,
   "metadata": {},
   "outputs": [
    {
     "name": "stdout",
     "output_type": "stream",
     "text": [
      "<Buffer 12 20 25 b6 74 6d 51 72 ed 63 52 96 6a 01 3d 93 ac 84 6e 11 10 d5 a2 5e 8f 18 3b 59 31 f4 68 88 42 a1>\n"
     ]
    }
   ],
   "source": [
    "Buffer.from(require(\"multihashes\").encode(require(\"multihashing\").createHash(\"sha2-256\").update(\"onetwo\").digest(), \"sha2-256\").toString(\"hex\"), \"hex\")"
   ]
  },
  {
   "cell_type": "code",
   "execution_count": 61,
   "metadata": {},
   "outputs": [
    {
     "name": "stdout",
     "output_type": "stream",
     "text": [
      "<Buffer 00 00 00 00 00 00 00 00 00 00 00 00 00 00 00 00 00 00 00 00 00 00 00 00 00 00 00 00 00 00 00 00 00 00 00 00 00 00 00 00 00 00 00 00 00 00 00 00 00 00 ... 49 more bytes>\n"
     ]
    }
   ],
   "source": []
  },
  {
   "cell_type": "code",
   "execution_count": 64,
   "metadata": {},
   "outputs": [
    {
     "name": "stdout",
     "output_type": "stream",
     "text": [
      "\u001b[33m4\u001b[39m\n"
     ]
    }
   ],
   "source": [
    "buf.writeInt32BE(0x01020304)"
   ]
  },
  {
   "cell_type": "code",
   "execution_count": 65,
   "metadata": {},
   "outputs": [
    {
     "name": "stdout",
     "output_type": "stream",
     "text": [
      "<Buffer 01 02 03 04 00 00 00 00 00 00 00 00 00 00 00 00 00 00 00 00 00 00 00 00 00 00 00 00 00 00 00 00 00 00 00 00 00 00 00 00 00 00 00 00 00 00 00 00 00 00 ... 49 more bytes>\n"
     ]
    }
   ],
   "source": [
    "buf"
   ]
  },
  {
   "cell_type": "code",
   "execution_count": 66,
   "metadata": {},
   "outputs": [],
   "source": [
    "function* genfun() {\n",
    "    yield 1\n",
    "    yield 2\n",
    "    yield 3\n",
    "}"
   ]
  },
  {
   "cell_type": "code",
   "execution_count": 67,
   "metadata": {},
   "outputs": [],
   "source": [
    "const gen = genfun()"
   ]
  },
  {
   "cell_type": "code",
   "execution_count": 68,
   "metadata": {},
   "outputs": [
    {
     "name": "stdout",
     "output_type": "stream",
     "text": [
      "{ value: \u001b[33m1\u001b[39m, done: \u001b[33mfalse\u001b[39m }\n"
     ]
    }
   ],
   "source": [
    "gen.next()"
   ]
  },
  {
   "cell_type": "code",
   "execution_count": 69,
   "metadata": {},
   "outputs": [
    {
     "name": "stdout",
     "output_type": "stream",
     "text": [
      "{ value: \u001b[33m2\u001b[39m, done: \u001b[33mfalse\u001b[39m }\n"
     ]
    }
   ],
   "source": [
    "gen.next()"
   ]
  },
  {
   "cell_type": "code",
   "execution_count": 71,
   "metadata": {},
   "outputs": [
    {
     "name": "stdout",
     "output_type": "stream",
     "text": [
      "\u001b[36m[Function: [Symbol.iterator]]\u001b[39m\n"
     ]
    }
   ],
   "source": [
    "gen[Symbol.iterator]"
   ]
  },
  {
   "cell_type": "code",
   "execution_count": 72,
   "metadata": {},
   "outputs": [
    {
     "name": "stdout",
     "output_type": "stream",
     "text": [
      "[ \u001b[33m3\u001b[39m ]\n"
     ]
    }
   ],
   "source": [
    "Array.from(gen[Symbol.iterator]())"
   ]
  },
  {
   "cell_type": "code",
   "execution_count": 9,
   "metadata": {},
   "outputs": [
    {
     "name": "stderr",
     "output_type": "stream",
     "text": [
      "undefined:1\n",
      "ty\n",
      " ^\n",
      "\n",
      "SyntaxError: Unexpected token y in JSON at position 1\n",
      "    at JSON.parse (<anonymous>)\n",
      "    at evalmachine.<anonymous>:2:27\n",
      "    at evalmachine.<anonymous>:4:3\n",
      "\u001b[90m    at sigintHandlersWrap (vm.js:269:15)\u001b[39m\n",
      "\u001b[90m    at Script.runInContext (vm.js:124:14)\u001b[39m\n",
      "\u001b[90m    at Object.runInContext (vm.js:290:6)\u001b[39m\n",
      "    at Object.execute (D:\\work\\tslab\\dist\\executor.js:159:38)\n",
      "    at JupyterHandlerImpl.handleExecuteImpl (D:\\work\\tslab\\dist\\jupyter.js:206:38)\n",
      "    at D:\\work\\tslab\\dist\\jupyter.js:164:57\n",
      "    at async JupyterHandlerImpl.handleExecute (D:\\work\\tslab\\dist\\jupyter.js:164:21)\n"
     ]
    }
   ],
   "source": [
    "JSON.parse(\"ty\")"
   ]
  },
  {
   "cell_type": "code",
   "execution_count": 77,
   "metadata": {},
   "outputs": [
    {
     "name": "stdout",
     "output_type": "stream",
     "text": [
      "EventEmitter {\n",
      "  _events: [Object: null prototype] { xx: \u001b[36m[Function]\u001b[39m },\n",
      "  _eventsCount: \u001b[33m1\u001b[39m,\n",
      "  _maxListeners: \u001b[90mundefined\u001b[39m\n",
      "}\n"
     ]
    }
   ],
   "source": [
    "const {EventEmitter} = require(\"events\")\n",
    "const a = new EventEmitter()\n",
    "a.on(\"xx\", ()=>{})"
   ]
  },
  {
   "cell_type": "code",
   "execution_count": 80,
   "metadata": {},
   "outputs": [
    {
     "name": "stdout",
     "output_type": "stream",
     "text": [
      "[]\n"
     ]
    }
   ],
   "source": [
    "a.listeners(\"xxx\")"
   ]
  },
  {
   "cell_type": "code",
   "execution_count": 14,
   "metadata": {},
   "outputs": [],
   "source": [
    "[0,1,2][3]?.toString()"
   ]
  },
  {
   "cell_type": "code",
   "execution_count": 15,
   "metadata": {},
   "outputs": [],
   "source": [
    "const abortable = require('abortable-iterator')\n",
    "const AbortController = require('abort-controller')"
   ]
  },
  {
   "cell_type": "code",
   "execution_count": 16,
   "metadata": {},
   "outputs": [
    {
     "name": "stderr",
     "output_type": "stream",
     "text": [
      "1:1 - Cannot find name 'AbortSignal'.\n"
     ]
    }
   ],
   "source": [
    "AbortSignal"
   ]
  },
  {
   "cell_type": "code",
   "execution_count": 27,
   "metadata": {},
   "outputs": [],
   "source": [
    "function* genfun() {\n",
    "    console.log(\"aaa\")\n",
    "    yield 1\n",
    "    console.log(\"bbb\")\n",
    "    yield 2\n",
    "    console.log(\"ccc\")\n",
    "    yield 3\n",
    "    console.log(\"ddd\")\n",
    "}\n",
    "const gen = genfun()"
   ]
  },
  {
   "cell_type": "code",
   "execution_count": 29,
   "metadata": {},
   "outputs": [
    {
     "name": "stdout",
     "output_type": "stream",
     "text": [
      "bbb\n",
      "{ value: \u001b[33m2\u001b[39m, done: \u001b[33mfalse\u001b[39m }\n"
     ]
    }
   ],
   "source": [
    "gen.next()"
   ]
  },
  {
   "cell_type": "code",
   "execution_count": 30,
   "metadata": {},
   "outputs": [
    {
     "name": "stdout",
     "output_type": "stream",
     "text": [
      "{ value: \u001b[32m'foo'\u001b[39m, done: \u001b[33mtrue\u001b[39m }\n"
     ]
    }
   ],
   "source": [
    "gen.return(\"foo\" as any)"
   ]
  },
  {
   "cell_type": "code",
   "execution_count": 31,
   "metadata": {},
   "outputs": [
    {
     "name": "stdout",
     "output_type": "stream",
     "text": [
      "{ value: \u001b[90mundefined\u001b[39m, done: \u001b[33mtrue\u001b[39m }\n"
     ]
    }
   ],
   "source": [
    "gen.next()"
   ]
  },
  {
   "cell_type": "code",
   "execution_count": 35,
   "metadata": {},
   "outputs": [],
   "source": [
    "await Promise.race([new Promise((y,n)=>setTimeout(()=>{y()}, 800)), new Promise((y,n)=>setTimeout(()=>{n(new Error(\"fuck\"))}, 900))])"
   ]
  },
  {
   "cell_type": "code",
   "execution_count": 36,
   "metadata": {},
   "outputs": [
    {
     "name": "stdout",
     "output_type": "stream",
     "text": [
      "\u001b[36m[Function: pop]\u001b[39m\n"
     ]
    }
   ],
   "source": [
    "[].pop"
   ]
  },
  {
   "cell_type": "code",
   "execution_count": 47,
   "metadata": {},
   "outputs": [],
   "source": [
    "const fuck = {\n",
    "    i: 0,\n",
    "    next() {\n",
    "        this.i++\n",
    "        if (this.i - 1 === 2) {\n",
    "            throw new Error(\"fuck\")\n",
    "        }\n",
    "        if (this.i > 10) {\n",
    "            return { value: this.i, done: true }\n",
    "        } else {\n",
    "            return { value: this.i, done: false }\n",
    "        }\n",
    "    },\n",
    "    [Symbol.iterator]() {\n",
    "        return this\n",
    "    }\n",
    "}"
   ]
  },
  {
   "cell_type": "code",
   "execution_count": 43,
   "metadata": {},
   "outputs": [
    {
     "name": "stdout",
     "output_type": "stream",
     "text": [
      "\u001b[33m1\u001b[39m\n",
      "\u001b[33m2\u001b[39m\n"
     ]
    },
    {
     "name": "stderr",
     "output_type": "stream",
     "text": [
      "evalmachine.<anonymous>:7\n",
      "            throw new Error(\"fuck\");\n",
      "            ^\n",
      "\n",
      "Error: fuck\n",
      "    at Object.next (evalmachine.<anonymous>:7:19)\n",
      "    at evalmachine.<anonymous>:1:26\n",
      "    at evalmachine.<anonymous>:5:3\n",
      "\u001b[90m    at sigintHandlersWrap (vm.js:269:15)\u001b[39m\n",
      "\u001b[90m    at Script.runInContext (vm.js:124:14)\u001b[39m\n",
      "\u001b[90m    at Object.runInContext (vm.js:290:6)\u001b[39m\n",
      "    at Object.execute (D:\\work\\tslab\\dist\\executor.js:159:38)\n",
      "    at JupyterHandlerImpl.handleExecuteImpl (D:\\work\\tslab\\dist\\jupyter.js:206:38)\n",
      "    at D:\\work\\tslab\\dist\\jupyter.js:164:57\n",
      "    at async JupyterHandlerImpl.handleExecute (D:\\work\\tslab\\dist\\jupyter.js:164:21)\n"
     ]
    }
   ],
   "source": [
    "for (const x of fuck) {\n",
    "    console.log(x)\n",
    "}"
   ]
  },
  {
   "cell_type": "code",
   "execution_count": 44,
   "metadata": {},
   "outputs": [
    {
     "name": "stdout",
     "output_type": "stream",
     "text": [
      "\u001b[33m4\u001b[39m\n",
      "\u001b[33m5\u001b[39m\n",
      "\u001b[33m6\u001b[39m\n",
      "\u001b[33m7\u001b[39m\n",
      "\u001b[33m8\u001b[39m\n",
      "\u001b[33m9\u001b[39m\n",
      "\u001b[33m10\u001b[39m\n"
     ]
    }
   ],
   "source": [
    "for (const x of fuck) {\n",
    "    console.log(x)\n",
    "}"
   ]
  },
  {
   "cell_type": "code",
   "execution_count": 49,
   "metadata": {},
   "outputs": [
    {
     "name": "stdout",
     "output_type": "stream",
     "text": [
      "\u001b[33m4\u001b[39m\n",
      "\u001b[33m5\u001b[39m\n",
      "\u001b[33m6\u001b[39m\n",
      "\u001b[33m7\u001b[39m\n",
      "\u001b[33m8\u001b[39m\n",
      "\u001b[33m9\u001b[39m\n",
      "\u001b[33m10\u001b[39m\n"
     ]
    }
   ],
   "source": [
    "try {\n",
    "    for (const x of fuck) {\n",
    "        console.log(x)\n",
    "    }\n",
    "} catch(err) { console.log(\"error:\", err) }"
   ]
  },
  {
   "cell_type": "code",
   "execution_count": 50,
   "metadata": {},
   "outputs": [
    {
     "name": "stdout",
     "output_type": "stream",
     "text": [
      "f(): evaluated\n",
      "g(): evaluated\n",
      "g(): called\n",
      "f(): called\n"
     ]
    }
   ],
   "source": [
    "function f() {\n",
    "    console.log(\"f(): evaluated\");\n",
    "    return function (target, propertyKey: string, descriptor: PropertyDescriptor) {\n",
    "        console.log(\"f(): called\");\n",
    "    }\n",
    "}\n",
    "\n",
    "function g() {\n",
    "    console.log(\"g(): evaluated\");\n",
    "    return function (target, propertyKey: string, descriptor: PropertyDescriptor) {\n",
    "        console.log(\"g(): called\");\n",
    "    }\n",
    "}\n",
    "\n",
    "class C {\n",
    "    @f()\n",
    "    @g()\n",
    "    method() {}\n",
    "}"
   ]
  },
  {
   "cell_type": "code",
   "execution_count": 55,
   "metadata": {},
   "outputs": [
    {
     "name": "stdout",
     "output_type": "stream",
     "text": [
      "{ fuck: \u001b[90mundefined\u001b[39m }\n"
     ]
    }
   ],
   "source": [
    "Object.assign({}, {fuck: undefined})"
   ]
  },
  {
   "cell_type": "code",
   "execution_count": 56,
   "metadata": {},
   "outputs": [],
   "source": [
    "const objHash = require(\"object-hash\")"
   ]
  },
  {
   "cell_type": "code",
   "execution_count": 67,
   "metadata": {},
   "outputs": [
    {
     "name": "stdout",
     "output_type": "stream",
     "text": [
      "<Buffer fa 1d 2d b6 2d 4d 95 2e 20 31 45 2e 1b c1 dd ca d0 b1 92 c2 e2 9a 70 6f 11 ce 42 6a e5 ac dd ea>\n"
     ]
    }
   ],
   "source": [
    "objHash(null, { algorithm: \"sha256\", encoding: \"buffer\" })"
   ]
  },
  {
   "cell_type": "code",
   "execution_count": 60,
   "metadata": {},
   "outputs": [],
   "source": [
    "objHash.sha256"
   ]
  },
  {
   "cell_type": "code",
   "execution_count": 61,
   "metadata": {},
   "outputs": [
    {
     "name": "stdout",
     "output_type": "stream",
     "text": [
      "[\n",
      "  \u001b[32m'RSA-MD4'\u001b[39m,\n",
      "  \u001b[32m'RSA-MD5'\u001b[39m,\n",
      "  \u001b[32m'RSA-MDC2'\u001b[39m,\n",
      "  \u001b[32m'RSA-RIPEMD160'\u001b[39m,\n",
      "  \u001b[32m'RSA-SHA1'\u001b[39m,\n",
      "  \u001b[32m'RSA-SHA1-2'\u001b[39m,\n",
      "  \u001b[32m'RSA-SHA224'\u001b[39m,\n",
      "  \u001b[32m'RSA-SHA256'\u001b[39m,\n",
      "  \u001b[32m'RSA-SHA3-224'\u001b[39m,\n",
      "  \u001b[32m'RSA-SHA3-256'\u001b[39m,\n",
      "  \u001b[32m'RSA-SHA3-384'\u001b[39m,\n",
      "  \u001b[32m'RSA-SHA3-512'\u001b[39m,\n",
      "  \u001b[32m'RSA-SHA384'\u001b[39m,\n",
      "  \u001b[32m'RSA-SHA512'\u001b[39m,\n",
      "  \u001b[32m'RSA-SHA512/224'\u001b[39m,\n",
      "  \u001b[32m'RSA-SHA512/256'\u001b[39m,\n",
      "  \u001b[32m'RSA-SM3'\u001b[39m,\n",
      "  \u001b[32m'blake2b512'\u001b[39m,\n",
      "  \u001b[32m'blake2s256'\u001b[39m,\n",
      "  \u001b[32m'id-rsassa-pkcs1-v1_5-with-sha3-224'\u001b[39m,\n",
      "  \u001b[32m'id-rsassa-pkcs1-v1_5-with-sha3-256'\u001b[39m,\n",
      "  \u001b[32m'id-rsassa-pkcs1-v1_5-with-sha3-384'\u001b[39m,\n",
      "  \u001b[32m'id-rsassa-pkcs1-v1_5-with-sha3-512'\u001b[39m,\n",
      "  \u001b[32m'md4'\u001b[39m,\n",
      "  \u001b[32m'md4WithRSAEncryption'\u001b[39m,\n",
      "  \u001b[32m'md5'\u001b[39m,\n",
      "  \u001b[32m'md5-sha1'\u001b[39m,\n",
      "  \u001b[32m'md5WithRSAEncryption'\u001b[39m,\n",
      "  \u001b[32m'mdc2'\u001b[39m,\n",
      "  \u001b[32m'mdc2WithRSA'\u001b[39m,\n",
      "  \u001b[32m'ripemd'\u001b[39m,\n",
      "  \u001b[32m'ripemd160'\u001b[39m,\n",
      "  \u001b[32m'ripemd160WithRSA'\u001b[39m,\n",
      "  \u001b[32m'rmd160'\u001b[39m,\n",
      "  \u001b[32m'sha1'\u001b[39m,\n",
      "  \u001b[32m'sha1WithRSAEncryption'\u001b[39m,\n",
      "  \u001b[32m'sha224'\u001b[39m,\n",
      "  \u001b[32m'sha224WithRSAEncryption'\u001b[39m,\n",
      "  \u001b[32m'sha256'\u001b[39m,\n",
      "  \u001b[32m'sha256WithRSAEncryption'\u001b[39m,\n",
      "  \u001b[32m'sha3-224'\u001b[39m,\n",
      "  \u001b[32m'sha3-256'\u001b[39m,\n",
      "  \u001b[32m'sha3-384'\u001b[39m,\n",
      "  \u001b[32m'sha3-512'\u001b[39m,\n",
      "  \u001b[32m'sha384'\u001b[39m,\n",
      "  \u001b[32m'sha384WithRSAEncryption'\u001b[39m,\n",
      "  \u001b[32m'sha512'\u001b[39m,\n",
      "  \u001b[32m'sha512-224'\u001b[39m,\n",
      "  \u001b[32m'sha512-224WithRSAEncryption'\u001b[39m,\n",
      "  \u001b[32m'sha512-256'\u001b[39m,\n",
      "  \u001b[32m'sha512-256WithRSAEncryption'\u001b[39m,\n",
      "  \u001b[32m'sha512WithRSAEncryption'\u001b[39m,\n",
      "  \u001b[32m'shake128'\u001b[39m,\n",
      "  \u001b[32m'shake256'\u001b[39m,\n",
      "  \u001b[32m'sm3'\u001b[39m,\n",
      "  \u001b[32m'sm3WithRSAEncryption'\u001b[39m,\n",
      "  \u001b[32m'ssl3-md5'\u001b[39m,\n",
      "  \u001b[32m'ssl3-sha1'\u001b[39m,\n",
      "  \u001b[32m'whirlpool'\u001b[39m\n",
      "]\n"
     ]
    }
   ],
   "source": [
    "require(\"crypto\").getHashes()"
   ]
  },
  {
   "cell_type": "code",
   "execution_count": 100,
   "metadata": {},
   "outputs": [],
   "source": [
    "const p =await require(\"peer-id\").create()"
   ]
  },
  {
   "cell_type": "code",
   "execution_count": 101,
   "metadata": {},
   "outputs": [
    {
     "name": "stdout",
     "output_type": "stream",
     "text": [
      "<Buffer 12 20 af c5 e0 40 fd 1b fe f0 44 c8 2f 44 4b f1 06 4b 58 df c3 08 cb 19 4b bb 9c 66 da f1 85 f3 fd e4>\n"
     ]
    }
   ],
   "source": [
    "p._id"
   ]
  },
  {
   "cell_type": "code",
   "execution_count": 103,
   "metadata": {},
   "outputs": [
    {
     "name": "stdout",
     "output_type": "stream",
     "text": [
      "QmaAo4PKdQVc6M3QyoToD6RRWGF2DM4EB6LQP6aq3tTJRH\n"
     ]
    }
   ],
   "source": [
    "p.toB58String()"
   ]
  },
  {
   "cell_type": "code",
   "execution_count": 104,
   "metadata": {},
   "outputs": [
    {
     "name": "stdout",
     "output_type": "stream",
     "text": [
      "undefined\n"
     ]
    }
   ],
   "source": [
    "typeof undefined"
   ]
  },
  {
   "cell_type": "code",
   "execution_count": 5,
   "metadata": {},
   "outputs": [],
   "source": [
    "function ff({abc = \"abc\", def = \"def\"} = {}) { console.log(abc, def, arguments[0]) }"
   ]
  },
  {
   "cell_type": "code",
   "execution_count": 6,
   "metadata": {},
   "outputs": [
    {
     "name": "stdout",
     "output_type": "stream",
     "text": [
      "x y { abc: \u001b[32m'x'\u001b[39m, def: \u001b[32m'y'\u001b[39m }\n"
     ]
    }
   ],
   "source": [
    "ff({abc: \"x\", def: \"y\"})"
   ]
  },
  {
   "cell_type": "code",
   "execution_count": 2,
   "metadata": {},
   "outputs": [
    {
     "name": "stdout",
     "output_type": "stream",
     "text": [
      "\u001b[32m'abc'\u001b[39m\n"
     ]
    }
   ],
   "source": [
    "require(\"util\").inspect(\"abc\", {colors: true, depth: null})"
   ]
  },
  {
   "cell_type": "code",
   "execution_count": 19,
   "metadata": {},
   "outputs": [
    {
     "name": "stdout",
     "output_type": "stream",
     "text": [
      "PeerId {\n",
      "  _id: <Buffer 00 24 08 01 12 20 e6 90 7d 4b 6e 31 c6 ab da 85 6c 77 af 4b 9d 18 87 74 9f c4 e2 7d 9f c6 f6 b7 02 e6 7f 52 fe a5>,\n",
      "  _idB58String: \u001b[32m'12D3KooWRLPj68y7VseL7M1gmkbXY8AjHrehoScN9Yvf66opKkBN'\u001b[39m,\n",
      "  _privKey: \u001b[90mundefined\u001b[39m,\n",
      "  _pubKey: \u001b[90mundefined\u001b[39m\n",
      "}\n"
     ]
    }
   ],
   "source": [
    "await require(\"peer-id\").createFromB58String(\"12D3KooWRLPj68y7VseL7M1gmkbXY8AjHrehoScN9Yvf66opKkBN\")"
   ]
  },
  {
   "cell_type": "code",
   "execution_count": 17,
   "metadata": {},
   "outputs": [],
   "source": [
    "const p = (await require(\"peer-id\").create({keyType: \"Ed25519\"}))"
   ]
  },
  {
   "cell_type": "code",
   "execution_count": 21,
   "metadata": {},
   "outputs": [
    {
     "name": "stdout",
     "output_type": "stream",
     "text": [
      "PeerId {\n",
      "  _id: <Buffer 00 24 08 01 12 20 e6 90 7d 4b 6e 31 c6 ab da 85 6c 77 af 4b 9d 18 87 74 9f c4 e2 7d 9f c6 f6 b7 02 e6 7f 52 fe a5>,\n",
      "  _idB58String: \u001b[32m'12D3KooWRLPj68y7VseL7M1gmkbXY8AjHrehoScN9Yvf66opKkBN'\u001b[39m,\n",
      "  _privKey: Ed25519PrivateKey {\n",
      "    _key: Uint8Array [\n",
      "      \u001b[33m143\u001b[39m,  \u001b[33m51\u001b[39m, \u001b[33m169\u001b[39m, \u001b[33m181\u001b[39m, \u001b[33m184\u001b[39m, \u001b[33m165\u001b[39m, \u001b[33m111\u001b[39m, \u001b[33m231\u001b[39m, \u001b[33m220\u001b[39m,  \u001b[33m21\u001b[39m, \u001b[33m225\u001b[39m,\n",
      "       \u001b[33m81\u001b[39m, \u001b[33m178\u001b[39m,  \u001b[33m43\u001b[39m,  \u001b[33m18\u001b[39m,  \u001b[33m74\u001b[39m,  \u001b[33m34\u001b[39m, \u001b[33m194\u001b[39m, \u001b[33m197\u001b[39m,  \u001b[33m68\u001b[39m, \u001b[33m239\u001b[39m,  \u001b[33m56\u001b[39m,\n",
      "      \u001b[33m196\u001b[39m,  \u001b[33m89\u001b[39m, \u001b[33m114\u001b[39m, \u001b[33m218\u001b[39m, \u001b[33m209\u001b[39m,  \u001b[33m97\u001b[39m,  \u001b[33m59\u001b[39m,  \u001b[33m82\u001b[39m, \u001b[33m225\u001b[39m, \u001b[33m145\u001b[39m, \u001b[33m230\u001b[39m,\n",
      "      \u001b[33m144\u001b[39m, \u001b[33m125\u001b[39m,  \u001b[33m75\u001b[39m, \u001b[33m110\u001b[39m,  \u001b[33m49\u001b[39m, \u001b[33m198\u001b[39m, \u001b[33m171\u001b[39m, \u001b[33m218\u001b[39m, \u001b[33m133\u001b[39m, \u001b[33m108\u001b[39m, \u001b[33m119\u001b[39m,\n",
      "      \u001b[33m175\u001b[39m,  \u001b[33m75\u001b[39m, \u001b[33m157\u001b[39m,  \u001b[33m24\u001b[39m, \u001b[33m135\u001b[39m, \u001b[33m116\u001b[39m, \u001b[33m159\u001b[39m, \u001b[33m196\u001b[39m, \u001b[33m226\u001b[39m, \u001b[33m125\u001b[39m, \u001b[33m159\u001b[39m,\n",
      "      \u001b[33m198\u001b[39m, \u001b[33m246\u001b[39m, \u001b[33m183\u001b[39m,   \u001b[33m2\u001b[39m, \u001b[33m230\u001b[39m, \u001b[33m127\u001b[39m,  \u001b[33m82\u001b[39m, \u001b[33m254\u001b[39m, \u001b[33m165\u001b[39m\n",
      "    ],\n",
      "    _publicKey: Uint8Array [\n",
      "      \u001b[33m230\u001b[39m, \u001b[33m144\u001b[39m, \u001b[33m125\u001b[39m,  \u001b[33m75\u001b[39m, \u001b[33m110\u001b[39m,  \u001b[33m49\u001b[39m, \u001b[33m198\u001b[39m,\n",
      "      \u001b[33m171\u001b[39m, \u001b[33m218\u001b[39m, \u001b[33m133\u001b[39m, \u001b[33m108\u001b[39m, \u001b[33m119\u001b[39m, \u001b[33m175\u001b[39m,  \u001b[33m75\u001b[39m,\n",
      "      \u001b[33m157\u001b[39m,  \u001b[33m24\u001b[39m, \u001b[33m135\u001b[39m, \u001b[33m116\u001b[39m, \u001b[33m159\u001b[39m, \u001b[33m196\u001b[39m, \u001b[33m226\u001b[39m,\n",
      "      \u001b[33m125\u001b[39m, \u001b[33m159\u001b[39m, \u001b[33m198\u001b[39m, \u001b[33m246\u001b[39m, \u001b[33m183\u001b[39m,   \u001b[33m2\u001b[39m, \u001b[33m230\u001b[39m,\n",
      "      \u001b[33m127\u001b[39m,  \u001b[33m82\u001b[39m, \u001b[33m254\u001b[39m, \u001b[33m165\u001b[39m\n",
      "    ]\n",
      "  },\n",
      "  _pubKey: Ed25519PublicKey {\n",
      "    _key: Uint8Array [\n",
      "      \u001b[33m230\u001b[39m, \u001b[33m144\u001b[39m, \u001b[33m125\u001b[39m,  \u001b[33m75\u001b[39m, \u001b[33m110\u001b[39m,  \u001b[33m49\u001b[39m, \u001b[33m198\u001b[39m,\n",
      "      \u001b[33m171\u001b[39m, \u001b[33m218\u001b[39m, \u001b[33m133\u001b[39m, \u001b[33m108\u001b[39m, \u001b[33m119\u001b[39m, \u001b[33m175\u001b[39m,  \u001b[33m75\u001b[39m,\n",
      "      \u001b[33m157\u001b[39m,  \u001b[33m24\u001b[39m, \u001b[33m135\u001b[39m, \u001b[33m116\u001b[39m, \u001b[33m159\u001b[39m, \u001b[33m196\u001b[39m, \u001b[33m226\u001b[39m,\n",
      "      \u001b[33m125\u001b[39m, \u001b[33m159\u001b[39m, \u001b[33m198\u001b[39m, \u001b[33m246\u001b[39m, \u001b[33m183\u001b[39m,   \u001b[33m2\u001b[39m, \u001b[33m230\u001b[39m,\n",
      "      \u001b[33m127\u001b[39m,  \u001b[33m82\u001b[39m, \u001b[33m254\u001b[39m, \u001b[33m165\u001b[39m\n",
      "    ]\n",
      "  }\n",
      "}\n"
     ]
    }
   ],
   "source": [
    "p"
   ]
  },
  {
   "cell_type": "code",
   "execution_count": 20,
   "metadata": {},
   "outputs": [
    {
     "name": "stdout",
     "output_type": "stream",
     "text": [
      "PeerId {\n",
      "  _id: <Buffer 00 24 08 01 12 20 e6 90 7d 4b 6e 31 c6 ab da 85 6c 77 af 4b 9d 18 87 74 9f c4 e2 7d 9f c6 f6 b7 02 e6 7f 52 fe a5>,\n",
      "  _idB58String: \u001b[32m'12D3KooWRLPj68y7VseL7M1gmkbXY8AjHrehoScN9Yvf66opKkBN'\u001b[39m,\n",
      "  _privKey: \u001b[1mnull\u001b[22m,\n",
      "  _pubKey: Ed25519PublicKey {\n",
      "    _key: Uint8Array [\n",
      "      \u001b[33m230\u001b[39m, \u001b[33m144\u001b[39m, \u001b[33m125\u001b[39m,  \u001b[33m75\u001b[39m, \u001b[33m110\u001b[39m,  \u001b[33m49\u001b[39m, \u001b[33m198\u001b[39m,\n",
      "      \u001b[33m171\u001b[39m, \u001b[33m218\u001b[39m, \u001b[33m133\u001b[39m, \u001b[33m108\u001b[39m, \u001b[33m119\u001b[39m, \u001b[33m175\u001b[39m,  \u001b[33m75\u001b[39m,\n",
      "      \u001b[33m157\u001b[39m,  \u001b[33m24\u001b[39m, \u001b[33m135\u001b[39m, \u001b[33m116\u001b[39m, \u001b[33m159\u001b[39m, \u001b[33m196\u001b[39m, \u001b[33m226\u001b[39m,\n",
      "      \u001b[33m125\u001b[39m, \u001b[33m159\u001b[39m, \u001b[33m198\u001b[39m, \u001b[33m246\u001b[39m, \u001b[33m183\u001b[39m,   \u001b[33m2\u001b[39m, \u001b[33m230\u001b[39m,\n",
      "      \u001b[33m127\u001b[39m,  \u001b[33m82\u001b[39m, \u001b[33m254\u001b[39m, \u001b[33m165\u001b[39m\n",
      "    ]\n",
      "  }\n",
      "}\n"
     ]
    }
   ],
   "source": [
    "await require(\"peer-id\").createFromPubKey('CAESIOaQfUtuMcar2oVsd69LnRiHdJ/E4n2fxva3AuZ/Uv6l')"
   ]
  },
  {
   "cell_type": "code",
   "execution_count": 27,
   "metadata": {},
   "outputs": [],
   "source": [
    "let { x, y, z = 3 } = { x: 1, y: 2}"
   ]
  },
  {
   "cell_type": "code",
   "execution_count": 25,
   "metadata": {},
   "outputs": [
    {
     "name": "stdout",
     "output_type": "stream",
     "text": [
      "\u001b[33m1\u001b[39m\n"
     ]
    }
   ],
   "source": [
    "x"
   ]
  },
  {
   "cell_type": "code",
   "execution_count": 26,
   "metadata": {},
   "outputs": [
    {
     "name": "stdout",
     "output_type": "stream",
     "text": [
      "\u001b[33m2\u001b[39m\n"
     ]
    }
   ],
   "source": [
    "y"
   ]
  },
  {
   "cell_type": "code",
   "execution_count": 28,
   "metadata": {},
   "outputs": [
    {
     "name": "stdout",
     "output_type": "stream",
     "text": [
      "\u001b[33m3\u001b[39m\n"
     ]
    }
   ],
   "source": [
    "z"
   ]
  },
  {
   "cell_type": "code",
   "execution_count": null,
   "metadata": {},
   "outputs": [],
   "source": []
  }
 ],
 "metadata": {
  "kernelspec": {
   "display_name": "TypeScript",
   "language": "typescript",
   "name": "tslab"
  },
  "language_info": {
   "codemirror_mode": {
    "mode": "typescript",
    "name": "javascript",
    "typescript": true
   },
   "file_extension": ".ts",
   "mimetype": "text/typescript",
   "name": "typescript",
   "version": "3.7.2"
  }
 },
 "nbformat": 4,
 "nbformat_minor": 4
}
