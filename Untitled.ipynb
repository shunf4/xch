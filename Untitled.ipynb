{
 "cells": [
  {
   "cell_type": "code",
   "execution_count": 5,
   "metadata": {},
   "outputs": [],
   "source": [
    "const PeerId =require(\"peer-id\")"
   ]
  },
  {
   "cell_type": "code",
   "execution_count": 6,
   "metadata": {},
   "outputs": [
    {
     "name": "stdout",
     "output_type": "stream",
     "text": [
      "[Function: PeerId] {\n",
      "  isPeerId: \u001b[36m[Function]\u001b[39m,\n",
      "  create: \u001b[36m[AsyncFunction]\u001b[39m,\n",
      "  createFromHexString: \u001b[36m[Function]\u001b[39m,\n",
      "  createFromBytes: \u001b[36m[Function]\u001b[39m,\n",
      "  createFromB58String: \u001b[36m[Function]\u001b[39m,\n",
      "  createFromCID: \u001b[36m[Function]\u001b[39m,\n",
      "  createFromPubKey: \u001b[36m[AsyncFunction]\u001b[39m,\n",
      "  createFromPrivKey: \u001b[36m[AsyncFunction]\u001b[39m,\n",
      "  createFromJSON: \u001b[36m[AsyncFunction]\u001b[39m,\n",
      "  createFromProtobuf: \u001b[36m[AsyncFunction]\u001b[39m\n",
      "}\n"
     ]
    }
   ],
   "source": [
    "PeerId"
   ]
  },
  {
   "cell_type": "code",
   "execution_count": 7,
   "metadata": {},
   "outputs": [],
   "source": [
    "const p = await PeerId.create()"
   ]
  },
  {
   "cell_type": "code",
   "execution_count": 8,
   "metadata": {},
   "outputs": [
    {
     "name": "stdout",
     "output_type": "stream",
     "text": [
      "PeerId {\n",
      "  _id: <Buffer 12 20 6a e6 59 ad 7d ec a8 e0 13 51 67 05 e2 3a 73 07 98 4a f3 dd 08 d6 5c 22 6e eb 22 85 4d 7e 79 52>,\n",
      "  _idB58String: \u001b[32m'QmVXweZjEQwpcLTQCKyZpdpyCcmZ3YsmgFyUQgvXqNY86D'\u001b[39m,\n",
      "  _privKey: RsaPrivateKey {\n",
      "    _key: {\n",
      "      kty: \u001b[32m'RSA'\u001b[39m,\n",
      "      n: \u001b[32m'4Z_jtbyvxXMb8x_FiQzQt7WPIrjktZQjlSTQH0VOY5wXMRFbMecnQanah2P_h0dlmKr9FJ-kr16hzHX5moVeb56kAXvTDlFHxzU2-JFs1bReFlWwfDQHChLxBGr0LlCyE4ZL_S9-RnjCFfCVTLG4MlHbLlwgRXrLu0CKiIFvGq2a-dkls1740tbQex09GubKiZAJA-E1IM07x9UoU9xOSZb9djobdojrDclFPkTGIt7xCcE155M4g11BbbH-OaHa6__H0Qjnnu_2K-BcV3tzrIJEFoLl0BwtjSboy2J163Gvu4ATAo9_b1jF5UTgYHBSGUkcVDhmtJMJdanS9eMTDQ'\u001b[39m,\n",
      "      e: \u001b[32m'AQAB'\u001b[39m,\n",
      "      d: \u001b[32m'aK-PMBvEUpD-PuhW9ygDD7omF65CMB30BJd4GYpGvOEHwbST46ulA0qUIo27WkE-Wn-7vX31I4l8-SkkDxYioxewcR_K5bHA5CVExEB1hxKRNTu9D2P0gDAZtDsL4RGADp8ZUvheVsRhCVz_aP5swKxKTlBgiNxY-yEPJhcoPe_AFfxDlO3JOZIeHjDyyBGvzw4CkFFNIQjQdvR4oqRp0v8-t041U2bVfh9D1N74k9kreOSvK3epnVCEShXKu-h_7i-BvyLql49clkwquNcDTIIH1sB8kx8dCuFWGZp5fO-EaBJqsVID6qAaMzZEl1FCBiNuaIIFW56Jl6WLtCYz4Q'\u001b[39m,\n",
      "      p: \u001b[32m'81gPPVALbUK0fK6tZEG2cZmHtYOJpRckey9A8AkL1BbQO-LTl2vBX3HaywONzSzrqlFbm2H8lZcbvT2V2W5xFGsirPrejxvRZJNlcfN9Ctjd_ZrDJEGBPKi5M4ouDJHey57XZ_4MOWtnngyLlH62ALN6-sPIQkUdigdZ0gbloM8'\u001b[39m,\n",
      "      q: \u001b[32m'7Vvozvya4pXl6pgc_11LFi_U_ccplWf3rLrAZ8gtya1YfReiwXPPwS20rJKmsfMKHSXF6iELLX0b_Q9-oyEaULfTm-RWT6sb-XhY9lY9WPg8UQ0Fkhyd5y1QzmtLSOROycgCSd3QWJCrz6gXuUeUhd5zpA6D06JpIPQCyqJ2rWM'\u001b[39m,\n",
      "      dp: \u001b[32m'02SYOIckphHggL-t2P5M43qgLcrK9COaiXiPTPZO1DvNQXjWnx_4qFVb4CiCMs7nGtn6Xo1Mwxa1_jtVxcDvcvFu-h4k4OUljd2NruP6qEWk8v5Sr1hIUM2xtVhAkKLXjMO8FJbZP7hSFzaGusUojotcNiOGACvScWnZWV6sdHk'\u001b[39m,\n",
      "      dq: \u001b[32m'6AVC8yqsQLfkssiU9-77WinRm21XMcwaqIc5U3mzgIRpjoZPO6l4uU5zYYpNVn_MMCffanl4krPMazf9Q3s1XRgEy0uOL3yE8Pz6gXpVp6WoWFZRTr2YgQWkCtOJGSzL86UGz6v7YMeym1-mKSBWh_GmuwTRSkxlVagRHoFnXx8'\u001b[39m,\n",
      "      qi: \u001b[32m'jqETzPs7iEuH8iut-J4Juztum9wXoaTb8qJ36J0D-dfDRQCkADLsXIe7lp0X9evWjPVcqOnQlKJDyYLEWzAK3jkQKt5RiqJm7uswOvli-My9uQMKCPiLCRl0vmNnFW2ecW8Gf2HO5sMOhTyDedaCTmHa4mwt1JwkbBs-0Y-yR1w'\u001b[39m\n",
      "    },\n",
      "    _publicKey: {\n",
      "      kty: \u001b[32m'RSA'\u001b[39m,\n",
      "      n: \u001b[32m'4Z_jtbyvxXMb8x_FiQzQt7WPIrjktZQjlSTQH0VOY5wXMRFbMecnQanah2P_h0dlmKr9FJ-kr16hzHX5moVeb56kAXvTDlFHxzU2-JFs1bReFlWwfDQHChLxBGr0LlCyE4ZL_S9-RnjCFfCVTLG4MlHbLlwgRXrLu0CKiIFvGq2a-dkls1740tbQex09GubKiZAJA-E1IM07x9UoU9xOSZb9djobdojrDclFPkTGIt7xCcE155M4g11BbbH-OaHa6__H0Qjnnu_2K-BcV3tzrIJEFoLl0BwtjSboy2J163Gvu4ATAo9_b1jF5UTgYHBSGUkcVDhmtJMJdanS9eMTDQ'\u001b[39m,\n",
      "      e: \u001b[32m'AQAB'\u001b[39m\n",
      "    }\n",
      "  },\n",
      "  _pubKey: RsaPublicKey {\n",
      "    _key: {\n",
      "      kty: \u001b[32m'RSA'\u001b[39m,\n",
      "      n: \u001b[32m'4Z_jtbyvxXMb8x_FiQzQt7WPIrjktZQjlSTQH0VOY5wXMRFbMecnQanah2P_h0dlmKr9FJ-kr16hzHX5moVeb56kAXvTDlFHxzU2-JFs1bReFlWwfDQHChLxBGr0LlCyE4ZL_S9-RnjCFfCVTLG4MlHbLlwgRXrLu0CKiIFvGq2a-dkls1740tbQex09GubKiZAJA-E1IM07x9UoU9xOSZb9djobdojrDclFPkTGIt7xCcE155M4g11BbbH-OaHa6__H0Qjnnu_2K-BcV3tzrIJEFoLl0BwtjSboy2J163Gvu4ATAo9_b1jF5UTgYHBSGUkcVDhmtJMJdanS9eMTDQ'\u001b[39m,\n",
      "      e: \u001b[32m'AQAB'\u001b[39m\n",
      "    }\n",
      "  }\n",
      "}\n"
     ]
    }
   ],
   "source": [
    "p"
   ]
  },
  {
   "cell_type": "code",
   "execution_count": 9,
   "metadata": {},
   "outputs": [
    {
     "name": "stdout",
     "output_type": "stream",
     "text": [
      "{\n",
      "  id: \u001b[32m'QmVXweZjEQwpcLTQCKyZpdpyCcmZ3YsmgFyUQgvXqNY86D'\u001b[39m,\n",
      "  privKey: \u001b[32m'CAASqQkwggSlAgEAAoIBAQDhn+O1vK/FcxvzH8WJDNC3tY8iuOS1lCOVJNAfRU5jnBcxEVsx5ydBqdqHY/+HR2WYqv0Un6SvXqHMdfmahV5vnqQBe9MOUUfHNTb4kWzVtF4WVbB8NAcKEvEEavQuULIThkv9L35GeMIV8JVMsbgyUdsuXCBFesu7QIqIgW8arZr52SWzXvjS1tB7HT0a5sqJkAkD4TUgzTvH1ShT3E5Jlv12Oht2iOsNyUU+RMYi3vEJwTXnkziDXUFtsf45odrr/8fRCOee7/Yr4FxXe3OsgkQWguXQHC2NJujLYnXrca+7gBMCj39vWMXlROBgcFIZSRxUOGa0kwl1qdL14xMNAgMBAAECggEAaK+PMBvEUpD+PuhW9ygDD7omF65CMB30BJd4GYpGvOEHwbST46ulA0qUIo27WkE+Wn+7vX31I4l8+SkkDxYioxewcR/K5bHA5CVExEB1hxKRNTu9D2P0gDAZtDsL4RGADp8ZUvheVsRhCVz/aP5swKxKTlBgiNxY+yEPJhcoPe/AFfxDlO3JOZIeHjDyyBGvzw4CkFFNIQjQdvR4oqRp0v8+t041U2bVfh9D1N74k9kreOSvK3epnVCEShXKu+h/7i+BvyLql49clkwquNcDTIIH1sB8kx8dCuFWGZp5fO+EaBJqsVID6qAaMzZEl1FCBiNuaIIFW56Jl6WLtCYz4QKBgQDzWA89UAttQrR8rq1kQbZxmYe1g4mlFyR7L0DwCQvUFtA74tOXa8FfcdrLA43NLOuqUVubYfyVlxu9PZXZbnEUayKs+t6PG9Fkk2Vx830K2N39msMkQYE8qLkzii4Mkd7Lntdn/gw5a2eeDIuUfrYAs3r6w8hCRR2KB1nSBuWgzwKBgQDtW+jO/JrileXqmBz/XUsWL9T9xymVZ/esusBnyC3JrVh9F6LBc8/BLbSskqax8wodJcXqIQstfRv9D36jIRpQt9Ob5FZPqxv5eFj2Vj1Y+DxRDQWSHJ3nLVDOa0tI5E7JyAJJ3dBYkKvPqBe5R5SF3nOkDoPTomkg9ALKonatYwKBgQDTZJg4hySmEeCAv63Y/kzjeqAtysr0I5qJeI9M9k7UO81BeNafH/ioVVvgKIIyzuca2fpejUzDFrX+O1XFwO9y8W76HiTg5SWN3Y2u4/qoRaTy/lKvWEhQzbG1WECQoteMw7wUltk/uFIXNoa6xSiOi1w2I4YAK9JxadlZXqx0eQKBgQDoBULzKqxAt+SyyJT37vtaKdGbbVcxzBqohzlTebOAhGmOhk87qXi5TnNhik1Wf8wwJ99qeXiSs8xrN/1DezVdGATLS44vfITw/PqBelWnpahYVlFOvZiBBaQK04kZLMvzpQbPq/tgx7KbX6YpIFaH8aa7BNFKTGVVqBEegWdfHwKBgQCOoRPM+zuIS4fyK634ngm7O26b3BehpNvyonfonQP518NFAKQAMuxch7uWnRf169aM9Vyo6dCUokPJgsRbMAreORAq3lGKombu6zA6+WL4zL25AwoI+IsJGXS+Y2cVbZ5xbwZ/Yc7mww6FPIN51oJOYdribC3UnCRsGz7Rj7JHXA=='\u001b[39m,\n",
      "  pubKey: \u001b[32m'CAASpgIwggEiMA0GCSqGSIb3DQEBAQUAA4IBDwAwggEKAoIBAQDhn+O1vK/FcxvzH8WJDNC3tY8iuOS1lCOVJNAfRU5jnBcxEVsx5ydBqdqHY/+HR2WYqv0Un6SvXqHMdfmahV5vnqQBe9MOUUfHNTb4kWzVtF4WVbB8NAcKEvEEavQuULIThkv9L35GeMIV8JVMsbgyUdsuXCBFesu7QIqIgW8arZr52SWzXvjS1tB7HT0a5sqJkAkD4TUgzTvH1ShT3E5Jlv12Oht2iOsNyUU+RMYi3vEJwTXnkziDXUFtsf45odrr/8fRCOee7/Yr4FxXe3OsgkQWguXQHC2NJujLYnXrca+7gBMCj39vWMXlROBgcFIZSRxUOGa0kwl1qdL14xMNAgMBAAE='\u001b[39m\n",
      "}\n"
     ]
    }
   ],
   "source": [
    "p.toJSON()"
   ]
  },
  {
   "cell_type": "code",
   "execution_count": 10,
   "metadata": {},
   "outputs": [
    {
     "name": "stdout",
     "output_type": "stream",
     "text": [
      "PeerId {\n",
      "  _id: <Buffer 18 04 37 3c f0 e6 42>,\n",
      "  _idB58String: \u001b[32m'undefined'\u001b[39m,\n",
      "  _privKey: \u001b[1mnull\u001b[22m,\n",
      "  _pubKey: \u001b[90mundefined\u001b[39m\n",
      "}\n"
     ]
    }
   ],
   "source": [
    "await PeerId.createFromJSON(Object.assign(p.toJSON(), {privKey: undefined, pubKey: undefined, id: undefined}))"
   ]
  },
  {
   "cell_type": "code",
   "execution_count": 12,
   "metadata": {},
   "outputs": [
    {
     "name": "stderr",
     "output_type": "stream",
     "text": [
      "1:1 - Cannot find name 'Object'.\n"
     ]
    }
   ],
   "source": [
    "Object"
   ]
  },
  {
   "cell_type": "code",
   "execution_count": 7,
   "metadata": {},
   "outputs": [],
   "source": [
    "const pp = p.toJSON()"
   ]
  },
  {
   "cell_type": "code",
   "execution_count": 14,
   "metadata": {},
   "outputs": [
    {
     "name": "stdout",
     "output_type": "stream",
     "text": [
      "\u001b[33mtrue\u001b[39m\n"
     ]
    }
   ],
   "source": [
    "delete pp.privKey"
   ]
  },
  {
   "cell_type": "code",
   "execution_count": 15,
   "metadata": {},
   "outputs": [
    {
     "name": "stdout",
     "output_type": "stream",
     "text": [
      "{\n",
      "  id: \u001b[32m'QmXL6aDHpRcA9oU9pmNs5fhCpGCjfLShP7LesKvMzQZWgR'\u001b[39m,\n",
      "  pubKey: \u001b[32m'CAASpgIwggEiMA0GCSqGSIb3DQEBAQUAA4IBDwAwggEKAoIBAQC+0zZeXXmQ8egl0iK2p/FAW2jfYdqSV+NISk0kjdUjOPYH8iO0+3nKTrFnSqn+aIOo80i1DLRbIg0SOQUuExjUUER6N6QEBQkYisFU5582HwEyoS3OTajNyc3wrA5OaiZ95WakgNv3aZqe6HApU8+MAe+rC23R8JLu7ZEdI+MvXH3X/iVXIx31XrgidmML5MbycfmN7+Yjxd5iAu9cZYSI+vxwSQpb7KOHFS4ZKu6v92NxiLFGdrn4bbHQQwibjk6Cw/hyb9zeGuu+xj2SCPPoRYtl+Ue4hKiLoxKmeR9FvDpXaOKlnaddPAWdSyV89Y2S292zYQgjt2sVmpkRYhQNAgMBAAE='\u001b[39m\n",
      "}\n"
     ]
    }
   ],
   "source": [
    "pp"
   ]
  },
  {
   "cell_type": "code",
   "execution_count": 16,
   "metadata": {},
   "outputs": [
    {
     "name": "stdout",
     "output_type": "stream",
     "text": [
      "string\n"
     ]
    }
   ],
   "source": [
    "typeof \"\""
   ]
  },
  {
   "cell_type": "code",
   "execution_count": 17,
   "metadata": {},
   "outputs": [
    {
     "name": "stdout",
     "output_type": "stream",
     "text": [
      "[]\n"
     ]
    }
   ],
   "source": [
    "Array()"
   ]
  },
  {
   "cell_type": "code",
   "execution_count": 18,
   "metadata": {},
   "outputs": [],
   "source": [
    "class FuckError extends Error {\n",
    "    \n",
    "\n",
    "}"
   ]
  },
  {
   "cell_type": "code",
   "execution_count": 28,
   "metadata": {},
   "outputs": [
    {
     "name": "stdout",
     "output_type": "stream",
     "text": [
      "FuckError\n",
      "    at evalmachine.<anonymous>:2:22\n",
      "    at evalmachine.<anonymous>:4:3\n",
      "\u001b[90m    at sigintHandlersWrap (vm.js:269:15)\u001b[39m\n",
      "\u001b[90m    at Script.runInContext (vm.js:124:14)\u001b[39m\n",
      "\u001b[90m    at Object.runInContext (vm.js:290:6)\u001b[39m\n",
      "    at Object.execute (D:\\work\\tslab\\dist\\executor.js:159:38)\n",
      "    at JupyterHandlerImpl.handleExecuteImpl (D:\\work\\tslab\\dist\\jupyter.js:206:38)\n",
      "    at D:\\work\\tslab\\dist\\jupyter.js:164:57\n",
      "    at async JupyterHandlerImpl.handleExecute (D:\\work\\tslab\\dist\\jupyter.js:164:21)\n",
      "    at async ZmqServer.handleExecute (D:\\work\\tslab\\dist\\jupyter.js:362:25)\n"
     ]
    }
   ],
   "source": [
    "new FuckError()"
   ]
  },
  {
   "cell_type": "code",
   "execution_count": 24,
   "metadata": {},
   "outputs": [
    {
     "name": "stdout",
     "output_type": "stream",
     "text": [
      "function\n"
     ]
    }
   ],
   "source": [
    "typeof FuckError"
   ]
  },
  {
   "cell_type": "code",
   "execution_count": 26,
   "metadata": {},
   "outputs": [],
   "source": [
    "class FuckError extends Error {\n",
    "    constructor() { super(); return this }\n",
    "}"
   ]
  },
  {
   "cell_type": "code",
   "execution_count": 29,
   "metadata": {},
   "outputs": [],
   "source": [
    "const FuckErrorClass = FuckError"
   ]
  },
  {
   "cell_type": "code",
   "execution_count": 30,
   "metadata": {},
   "outputs": [
    {
     "name": "stdout",
     "output_type": "stream",
     "text": [
      "\u001b[36m[Function: FuckError]\u001b[39m\n"
     ]
    }
   ],
   "source": [
    "FuckErrorClass"
   ]
  },
  {
   "cell_type": "code",
   "execution_count": 32,
   "metadata": {},
   "outputs": [],
   "source": [
    "const FuckErrorConstructor = function(...args) { return new FuckErrorClass() }"
   ]
  },
  {
   "cell_type": "code",
   "execution_count": 33,
   "metadata": {},
   "outputs": [
    {
     "name": "stderr",
     "output_type": "stream",
     "text": [
      "1:1 - Cannot assign to 'FuckError' because it is not a variable.\n"
     ]
    }
   ],
   "source": [
    "FuckError = FuckErrorConstructor"
   ]
  },
  {
   "cell_type": "code",
   "execution_count": 35,
   "metadata": {},
   "outputs": [
    {
     "name": "stderr",
     "output_type": "stream",
     "text": [
      "1:1 - Value of type 'typeof FuckError' is not callable. Did you mean to include 'new'?\n"
     ]
    }
   ],
   "source": [
    "FuckError()"
   ]
  },
  {
   "cell_type": "code",
   "execution_count": 2,
   "metadata": {},
   "outputs": [
    {
     "name": "stdout",
     "output_type": "stream",
     "text": [
      "\n"
     ]
    }
   ],
   "source": [
    "(()=>{}).name"
   ]
  },
  {
   "cell_type": "code",
   "execution_count": 1,
   "metadata": {},
   "outputs": [
    {
     "name": "stdout",
     "output_type": "stream",
     "text": [
      "fuck\n"
     ]
    }
   ],
   "source": [
    "(function fuck(){}).name"
   ]
  },
  {
   "cell_type": "code",
   "execution_count": 39,
   "metadata": {},
   "outputs": [],
   "source": [
    "import _ from \"underscore\""
   ]
  },
  {
   "cell_type": "code",
   "execution_count": 42,
   "metadata": {},
   "outputs": [
    {
     "name": "stdout",
     "output_type": "stream",
     "text": [
      "isFunction\n"
     ]
    }
   ],
   "source": [
    "_.isFunction.name"
   ]
  },
  {
   "cell_type": "code",
   "execution_count": 43,
   "metadata": {},
   "outputs": [
    {
     "name": "stdout",
     "output_type": "stream",
     "text": [
      "[Map Iterator] {  }\n"
     ]
    }
   ],
   "source": [
    "(new Map()).values()"
   ]
  },
  {
   "cell_type": "code",
   "execution_count": 3,
   "metadata": {},
   "outputs": [],
   "source": [
    "const a = (()=>{})"
   ]
  },
  {
   "cell_type": "code",
   "execution_count": 7,
   "metadata": {},
   "outputs": [
    {
     "name": "stdout",
     "output_type": "stream",
     "text": [
      "\u001b[36m[Function: xxx]\u001b[39m\n"
     ]
    }
   ],
   "source": [
    "Object.defineProperty(a, \"name\", {\n",
    "    value: \"xxx\",\n",
    "    writable: false\n",
    "})"
   ]
  },
  {
   "cell_type": "code",
   "execution_count": 9,
   "metadata": {},
   "outputs": [
    {
     "name": "stdout",
     "output_type": "stream",
     "text": [
      "xxx\n"
     ]
    }
   ],
   "source": [
    "a.name"
   ]
  },
  {
   "cell_type": "code",
   "execution_count": 14,
   "metadata": {},
   "outputs": [
    {
     "name": "stdout",
     "output_type": "stream",
     "text": [
      "\u001b[33mfalse\u001b[39m\n"
     ]
    }
   ],
   "source": [
    "[Array] instanceof Array"
   ]
  },
  {
   "cell_type": "code",
   "execution_count": 15,
   "metadata": {},
   "outputs": [],
   "source": [
    "const x = []"
   ]
  },
  {
   "cell_type": "code",
   "execution_count": 22,
   "metadata": {},
   "outputs": [
    {
     "name": "stdout",
     "output_type": "stream",
     "text": [
      "\u001b[33mtrue\u001b[39m\n"
     ]
    }
   ],
   "source": [
    "Array.isArray(x)"
   ]
  },
  {
   "cell_type": "code",
   "execution_count": 24,
   "metadata": {},
   "outputs": [
    {
     "name": "stdout",
     "output_type": "stream",
     "text": [
      "\u001b[33mfalse\u001b[39m\n"
     ]
    }
   ],
   "source": [
    "x instanceof Object"
   ]
  },
  {
   "cell_type": "code",
   "execution_count": 27,
   "metadata": {},
   "outputs": [
    {
     "name": "stdout",
     "output_type": "stream",
     "text": [
      "\u001b[33mtrue\u001b[39m\n"
     ]
    }
   ],
   "source": [
    "Array.isArray(Array())"
   ]
  },
  {
   "cell_type": "code",
   "execution_count": 28,
   "metadata": {},
   "outputs": [
    {
     "name": "stdout",
     "output_type": "stream",
     "text": [
      "\u001b[33mtrue\u001b[39m\n"
     ]
    }
   ],
   "source": [
    "Array === Array"
   ]
  },
  {
   "cell_type": "code",
   "execution_count": 29,
   "metadata": {},
   "outputs": [
    {
     "name": "stdout",
     "output_type": "stream",
     "text": [
      "\u001b[33mtrue\u001b[39m\n"
     ]
    }
   ],
   "source": [
    "Array() instanceof Array"
   ]
  },
  {
   "cell_type": "code",
   "execution_count": 43,
   "metadata": {},
   "outputs": [
    {
     "name": "stdout",
     "output_type": "stream",
     "text": [
      "[object String]\n"
     ]
    }
   ],
   "source": [
    "Object.prototype.toString.call(Array.name)"
   ]
  },
  {
   "cell_type": "code",
   "execution_count": 45,
   "metadata": {},
   "outputs": [
    {
     "name": "stderr",
     "output_type": "stream",
     "text": [
      "1:4 - Cannot find name 'd'.\n"
     ]
    }
   ],
   "source": [
    "`${d}`"
   ]
  },
  {
   "cell_type": "code",
   "execution_count": 46,
   "metadata": {},
   "outputs": [
    {
     "name": "stderr",
     "output_type": "stream",
     "text": [
      "1:1 - The left-hand side of an 'instanceof' expression must be of type 'any', an object type or a type parameter.\n"
     ]
    }
   ],
   "source": [
    "\"\" instanceof String"
   ]
  },
  {
   "cell_type": "code",
   "execution_count": 47,
   "metadata": {},
   "outputs": [
    {
     "name": "stdout",
     "output_type": "stream",
     "text": [
      "\u001b[33m1588338990661\u001b[39m\n"
     ]
    }
   ],
   "source": [
    "Date.parse(\"2020-05-01T13:16:30.661Z\")"
   ]
  },
  {
   "cell_type": "code",
   "execution_count": 54,
   "metadata": {},
   "outputs": [
    {
     "name": "stdout",
     "output_type": "stream",
     "text": [
      "\u001b[33mNaN\u001b[39m\n"
     ]
    }
   ],
   "source": [
    "(new Date(\"2020-05-111\")).getTime()"
   ]
  },
  {
   "cell_type": "code",
   "execution_count": 4,
   "metadata": {},
   "outputs": [
    {
     "name": "stdout",
     "output_type": "stream",
     "text": [
      "\u001b[33mtrue\u001b[39m\n"
     ]
    }
   ],
   "source": [
    "(Object() instanceof Object)"
   ]
  },
  {
   "cell_type": "code",
   "execution_count": 5,
   "metadata": {},
   "outputs": [
    {
     "name": "stdout",
     "output_type": "stream",
     "text": [
      "object\n"
     ]
    }
   ],
   "source": [
    "typeof {}"
   ]
  },
  {
   "cell_type": "code",
   "execution_count": 1,
   "metadata": {},
   "outputs": [],
   "source": [
    "function abc(xxx = \"aaa\") {console.log(xxx)}"
   ]
  },
  {
   "cell_type": "code",
   "execution_count": 3,
   "metadata": {},
   "outputs": [
    {
     "name": "stdout",
     "output_type": "stream",
     "text": [
      "aaa\n"
     ]
    }
   ],
   "source": [
    "abc(undefined)"
   ]
  },
  {
   "cell_type": "code",
   "execution_count": 5,
   "metadata": {},
   "outputs": [],
   "source": [
    "const a = 1"
   ]
  },
  {
   "cell_type": "code",
   "execution_count": 6,
   "metadata": {},
   "outputs": [
    {
     "name": "stdout",
     "output_type": "stream",
     "text": [
      "1\n"
     ]
    }
   ],
   "source": [
    "a.toString()"
   ]
  },
  {
   "cell_type": "code",
   "execution_count": 3,
   "metadata": {},
   "outputs": [],
   "source": [
    "const crypto = require(\"libp2p-crypto\")\n",
    "const crypt = require(\"crypto\")"
   ]
  },
  {
   "cell_type": "code",
   "execution_count": 8,
   "metadata": {},
   "outputs": [],
   "source": [
    "const c = crypt.createHash(\"sha256\")"
   ]
  },
  {
   "cell_type": "code",
   "execution_count": 9,
   "metadata": {},
   "outputs": [
    {
     "name": "stdout",
     "output_type": "stream",
     "text": [
      "Hash {\n",
      "  _options: \u001b[90mundefined\u001b[39m,\n",
      "  writable: \u001b[33mtrue\u001b[39m,\n",
      "  readable: \u001b[33mtrue\u001b[39m,\n",
      "  [\u001b[32mSymbol(kHandle)\u001b[39m]: {},\n",
      "  [\u001b[32mSymbol(kState)\u001b[39m]: { [\u001b[32mSymbol(kFinalized)\u001b[39m]: \u001b[33mfalse\u001b[39m }\n",
      "}\n"
     ]
    }
   ],
   "source": [
    "c.update(\"one\")\n",
    "c.update(\"two\")"
   ]
  },
  {
   "cell_type": "code",
   "execution_count": 68,
   "metadata": {},
   "outputs": [
    {
     "name": "stderr",
     "output_type": "stream",
     "text": [
      "1:1 - Cannot find name 'c'. Did you mean 'C'?\n"
     ]
    }
   ],
   "source": [
    "c.digest(\"hex\")"
   ]
  },
  {
   "cell_type": "code",
   "execution_count": 11,
   "metadata": {},
   "outputs": [],
   "source": [
    "const multihashing = require(\"multihashing-async\")"
   ]
  },
  {
   "cell_type": "code",
   "execution_count": 35,
   "metadata": {},
   "outputs": [
    {
     "name": "stdout",
     "output_type": "stream",
     "text": [
      "\u001b[33mfalse\u001b[39m\n"
     ]
    }
   ],
   "source": [
    "await multihashing.validate(Buffer.from(\"onetwo\"), await multihashing(Buffer.from(\"onedtwo\"), \"sha2-256\"))"
   ]
  },
  {
   "cell_type": "code",
   "execution_count": 38,
   "metadata": {},
   "outputs": [],
   "source": [
    "const sha256 = await multihashing.createHash(\"sha2-256\")"
   ]
  },
  {
   "cell_type": "code",
   "execution_count": 46,
   "metadata": {},
   "outputs": [
    {
     "name": "stdout",
     "output_type": "stream",
     "text": [
      "<Buffer 25 b6 74 6d 51 72 ed 63 52 96 6a 01 3d 93 ac 84 6e 11 10 d5 a2 5e 8f 18 3b 59 31 f4 68 88 42 a1>\n"
     ]
    }
   ],
   "source": [
    "await sha256(\"onetwo\")"
   ]
  },
  {
   "cell_type": "code",
   "execution_count": 48,
   "metadata": {},
   "outputs": [
    {
     "name": "stdout",
     "output_type": "stream",
     "text": [
      "<Buffer 12 20 25 b6 74 6d 51 72 ed 63 52 96 6a 01 3d 93 ac 84 6e 11 10 d5 a2 5e 8f 18 3b 59 31 f4 68 88 42 a1>\n"
     ]
    }
   ],
   "source": [
    "await multihashing(Buffer.from(\"onetwo\"), \"sha2-256\")"
   ]
  },
  {
   "cell_type": "code",
   "execution_count": 51,
   "metadata": {},
   "outputs": [],
   "source": [
    "const multihashingx = require(\"multihashing\")"
   ]
  },
  {
   "cell_type": "code",
   "execution_count": 81,
   "metadata": {},
   "outputs": [
    {
     "name": "stdout",
     "output_type": "stream",
     "text": [
      "Hash {\n",
      "  _options: \u001b[90mundefined\u001b[39m,\n",
      "  writable: \u001b[33mtrue\u001b[39m,\n",
      "  readable: \u001b[33mtrue\u001b[39m,\n",
      "  [\u001b[32mSymbol(kHandle)\u001b[39m]: {},\n",
      "  [\u001b[32mSymbol(kState)\u001b[39m]: { [\u001b[32mSymbol(kFinalized)\u001b[39m]: \u001b[33mfalse\u001b[39m }\n",
      "}\n"
     ]
    }
   ],
   "source": [
    "multihashingx.createHash(\"sha2-256\").update(\"onetwo\")"
   ]
  },
  {
   "cell_type": "code",
   "execution_count": 83,
   "metadata": {},
   "outputs": [
    {
     "name": "stdout",
     "output_type": "stream",
     "text": [
      "[Function: MultiHash] { MultiHash: \u001b[36m[Circular]\u001b[39m }\n"
     ]
    }
   ],
   "source": [
    "require(\"multihash\")"
   ]
  },
  {
   "cell_type": "code",
   "execution_count": 18,
   "metadata": {},
   "outputs": [
    {
     "name": "stdout",
     "output_type": "stream",
     "text": [
      "<Buffer 12 20 e3 b0 c4 42 98 fc 1c 14 9a fb f4 c8 99 6f b9 24 27 ae 41 e4 64 9b 93 4c a4 95 99 1b 78 52 b8 55>\n"
     ]
    }
   ],
   "source": [
    "require(\"multihashes\").encode(require(\"multihashing\").createHash(\"sha2-256\").update(\"\").digest(), \"sha2-256\")"
   ]
  },
  {
   "cell_type": "code",
   "execution_count": 15,
   "metadata": {},
   "outputs": [
    {
     "name": "stdout",
     "output_type": "stream",
     "text": [
      "<Buffer >\n"
     ]
    }
   ],
   "source": [
    "Buffer.alloc(0)"
   ]
  },
  {
   "cell_type": "code",
   "execution_count": 7,
   "metadata": {},
   "outputs": [
    {
     "name": "stdout",
     "output_type": "stream",
     "text": [
      "\u001b[33mtrue\u001b[39m\n"
     ]
    }
   ],
   "source": [
    "require(\"object-hash\")({}, { algorithm: \"sha256\", }) === require(\"object-hash\")({}, { algorithm: \"sha256\", })"
   ]
  },
  {
   "cell_type": "code",
   "execution_count": 2,
   "metadata": {},
   "outputs": [
    {
     "name": "stdout",
     "output_type": "stream",
     "text": [
      "<Buffer 89 f5 44 75 c1 b4 34 11 95 65 8d 61 b2 b1 ba a0 4b 22 30 b6 bb a7 3b 44 c5 e6 ec 5c 9f 91 c7 e0>\n"
     ]
    }
   ],
   "source": [
    "require(\"object-hash\")({}, { algorithm: \"sha256\", encoding: \"buffer\" })"
   ]
  },
  {
   "cell_type": "code",
   "execution_count": 18,
   "metadata": {},
   "outputs": [
    {
     "name": "stdout",
     "output_type": "stream",
     "text": [
      "<Buffer e3 b0 c4 42 98 fc 1c 14 9a fb f4 c8 99 6f b9 24 27 ae 41 e4 64 9b 93 4c a4 95 99 1b 78 52 b8 55>\n"
     ]
    }
   ],
   "source": [
    "require(\"multihashing\").createHash(\"sha2-256\").digest()"
   ]
  },
  {
   "cell_type": "code",
   "execution_count": 22,
   "metadata": {},
   "outputs": [
    {
     "name": "stdout",
     "output_type": "stream",
     "text": [
      "<Buffer 12 20 15 af 43 aa 67 8a 0c 76 f2 7b 58 19 08 29 aa 74 06 ef 33 d5 54 63 ab c2 cd 2e a9 18 7a 0d 49 6d>\n"
     ]
    }
   ],
   "source": [
    "Buffer.from(require(\"multihashes\").encode(require(\"multihashing\").createHash(\"sha2-256\").update(\"C\").update(Buffer.alloc(8)).update(Buffer.alloc(8)).update(require(\"object-hash\")({}, { algorithm: \"sha256\", encoding: \"buffer\" })).update(require(\"multihashes\").encode(require(\"multihashing\").createHash(\"sha2-256\").digest(), \"sha2-256\")).digest(), \"sha2-256\").toString(\"hex\"), \"hex\")"
   ]
  },
  {
   "cell_type": "code",
   "execution_count": 61,
   "metadata": {},
   "outputs": [
    {
     "name": "stdout",
     "output_type": "stream",
     "text": [
      "<Buffer 00 00 00 00 00 00 00 00 00 00 00 00 00 00 00 00 00 00 00 00 00 00 00 00 00 00 00 00 00 00 00 00 00 00 00 00 00 00 00 00 00 00 00 00 00 00 00 00 00 00 ... 49 more bytes>\n"
     ]
    }
   ],
   "source": []
  },
  {
   "cell_type": "code",
   "execution_count": 64,
   "metadata": {},
   "outputs": [
    {
     "name": "stdout",
     "output_type": "stream",
     "text": [
      "\u001b[33m4\u001b[39m\n"
     ]
    }
   ],
   "source": [
    "buf.writeInt32BE(0x01020304)"
   ]
  },
  {
   "cell_type": "code",
   "execution_count": 65,
   "metadata": {},
   "outputs": [
    {
     "name": "stdout",
     "output_type": "stream",
     "text": [
      "<Buffer 01 02 03 04 00 00 00 00 00 00 00 00 00 00 00 00 00 00 00 00 00 00 00 00 00 00 00 00 00 00 00 00 00 00 00 00 00 00 00 00 00 00 00 00 00 00 00 00 00 00 ... 49 more bytes>\n"
     ]
    }
   ],
   "source": [
    "buf"
   ]
  },
  {
   "cell_type": "code",
   "execution_count": 66,
   "metadata": {},
   "outputs": [],
   "source": [
    "function* genfun() {\n",
    "    yield 1\n",
    "    yield 2\n",
    "    yield 3\n",
    "}"
   ]
  },
  {
   "cell_type": "code",
   "execution_count": 67,
   "metadata": {},
   "outputs": [],
   "source": [
    "const gen = genfun()"
   ]
  },
  {
   "cell_type": "code",
   "execution_count": 68,
   "metadata": {},
   "outputs": [
    {
     "name": "stdout",
     "output_type": "stream",
     "text": [
      "{ value: \u001b[33m1\u001b[39m, done: \u001b[33mfalse\u001b[39m }\n"
     ]
    }
   ],
   "source": [
    "gen.next()"
   ]
  },
  {
   "cell_type": "code",
   "execution_count": 69,
   "metadata": {},
   "outputs": [
    {
     "name": "stdout",
     "output_type": "stream",
     "text": [
      "{ value: \u001b[33m2\u001b[39m, done: \u001b[33mfalse\u001b[39m }\n"
     ]
    }
   ],
   "source": [
    "gen.next()"
   ]
  },
  {
   "cell_type": "code",
   "execution_count": 71,
   "metadata": {},
   "outputs": [
    {
     "name": "stdout",
     "output_type": "stream",
     "text": [
      "\u001b[36m[Function: [Symbol.iterator]]\u001b[39m\n"
     ]
    }
   ],
   "source": [
    "gen[Symbol.iterator]"
   ]
  },
  {
   "cell_type": "code",
   "execution_count": 72,
   "metadata": {},
   "outputs": [
    {
     "name": "stdout",
     "output_type": "stream",
     "text": [
      "[ \u001b[33m3\u001b[39m ]\n"
     ]
    }
   ],
   "source": [
    "Array.from(gen[Symbol.iterator]())"
   ]
  },
  {
   "cell_type": "code",
   "execution_count": 9,
   "metadata": {},
   "outputs": [
    {
     "name": "stderr",
     "output_type": "stream",
     "text": [
      "undefined:1\n",
      "ty\n",
      " ^\n",
      "\n",
      "SyntaxError: Unexpected token y in JSON at position 1\n",
      "    at JSON.parse (<anonymous>)\n",
      "    at evalmachine.<anonymous>:2:27\n",
      "    at evalmachine.<anonymous>:4:3\n",
      "\u001b[90m    at sigintHandlersWrap (vm.js:269:15)\u001b[39m\n",
      "\u001b[90m    at Script.runInContext (vm.js:124:14)\u001b[39m\n",
      "\u001b[90m    at Object.runInContext (vm.js:290:6)\u001b[39m\n",
      "    at Object.execute (D:\\work\\tslab\\dist\\executor.js:159:38)\n",
      "    at JupyterHandlerImpl.handleExecuteImpl (D:\\work\\tslab\\dist\\jupyter.js:206:38)\n",
      "    at D:\\work\\tslab\\dist\\jupyter.js:164:57\n",
      "    at async JupyterHandlerImpl.handleExecute (D:\\work\\tslab\\dist\\jupyter.js:164:21)\n"
     ]
    }
   ],
   "source": [
    "JSON.parse(\"ty\")"
   ]
  },
  {
   "cell_type": "code",
   "execution_count": 77,
   "metadata": {},
   "outputs": [
    {
     "name": "stdout",
     "output_type": "stream",
     "text": [
      "EventEmitter {\n",
      "  _events: [Object: null prototype] { xx: \u001b[36m[Function]\u001b[39m },\n",
      "  _eventsCount: \u001b[33m1\u001b[39m,\n",
      "  _maxListeners: \u001b[90mundefined\u001b[39m\n",
      "}\n"
     ]
    }
   ],
   "source": [
    "const {EventEmitter} = require(\"events\")\n",
    "const a = new EventEmitter()\n",
    "a.on(\"xx\", ()=>{})"
   ]
  },
  {
   "cell_type": "code",
   "execution_count": 80,
   "metadata": {},
   "outputs": [
    {
     "name": "stdout",
     "output_type": "stream",
     "text": [
      "[]\n"
     ]
    }
   ],
   "source": [
    "a.listeners(\"xxx\")"
   ]
  },
  {
   "cell_type": "code",
   "execution_count": 14,
   "metadata": {},
   "outputs": [],
   "source": [
    "[0,1,2][3]?.toString()"
   ]
  },
  {
   "cell_type": "code",
   "execution_count": 15,
   "metadata": {},
   "outputs": [],
   "source": [
    "const abortable = require('abortable-iterator')\n",
    "const AbortController = require('abort-controller')"
   ]
  },
  {
   "cell_type": "code",
   "execution_count": 16,
   "metadata": {},
   "outputs": [
    {
     "name": "stderr",
     "output_type": "stream",
     "text": [
      "1:1 - Cannot find name 'AbortSignal'.\n"
     ]
    }
   ],
   "source": [
    "AbortSignal"
   ]
  },
  {
   "cell_type": "code",
   "execution_count": 27,
   "metadata": {},
   "outputs": [],
   "source": [
    "function* genfun() {\n",
    "    console.log(\"aaa\")\n",
    "    yield 1\n",
    "    console.log(\"bbb\")\n",
    "    yield 2\n",
    "    console.log(\"ccc\")\n",
    "    yield 3\n",
    "    console.log(\"ddd\")\n",
    "}\n",
    "const gen = genfun()"
   ]
  },
  {
   "cell_type": "code",
   "execution_count": 29,
   "metadata": {},
   "outputs": [
    {
     "name": "stdout",
     "output_type": "stream",
     "text": [
      "bbb\n",
      "{ value: \u001b[33m2\u001b[39m, done: \u001b[33mfalse\u001b[39m }\n"
     ]
    }
   ],
   "source": [
    "gen.next()"
   ]
  },
  {
   "cell_type": "code",
   "execution_count": 30,
   "metadata": {},
   "outputs": [
    {
     "name": "stdout",
     "output_type": "stream",
     "text": [
      "{ value: \u001b[32m'foo'\u001b[39m, done: \u001b[33mtrue\u001b[39m }\n"
     ]
    }
   ],
   "source": [
    "gen.return(\"foo\" as any)"
   ]
  },
  {
   "cell_type": "code",
   "execution_count": 31,
   "metadata": {},
   "outputs": [
    {
     "name": "stdout",
     "output_type": "stream",
     "text": [
      "{ value: \u001b[90mundefined\u001b[39m, done: \u001b[33mtrue\u001b[39m }\n"
     ]
    }
   ],
   "source": [
    "gen.next()"
   ]
  },
  {
   "cell_type": "code",
   "execution_count": 35,
   "metadata": {},
   "outputs": [],
   "source": [
    "await Promise.race([new Promise((y,n)=>setTimeout(()=>{y()}, 800)), new Promise((y,n)=>setTimeout(()=>{n(new Error(\"fuck\"))}, 900))])"
   ]
  },
  {
   "cell_type": "code",
   "execution_count": 36,
   "metadata": {},
   "outputs": [
    {
     "name": "stdout",
     "output_type": "stream",
     "text": [
      "\u001b[36m[Function: pop]\u001b[39m\n"
     ]
    }
   ],
   "source": [
    "[].pop"
   ]
  },
  {
   "cell_type": "code",
   "execution_count": 47,
   "metadata": {},
   "outputs": [],
   "source": [
    "const fuck = {\n",
    "    i: 0,\n",
    "    next() {\n",
    "        this.i++\n",
    "        if (this.i - 1 === 2) {\n",
    "            throw new Error(\"fuck\")\n",
    "        }\n",
    "        if (this.i > 10) {\n",
    "            return { value: this.i, done: true }\n",
    "        } else {\n",
    "            return { value: this.i, done: false }\n",
    "        }\n",
    "    },\n",
    "    [Symbol.iterator]() {\n",
    "        return this\n",
    "    }\n",
    "}"
   ]
  },
  {
   "cell_type": "code",
   "execution_count": 43,
   "metadata": {},
   "outputs": [
    {
     "name": "stdout",
     "output_type": "stream",
     "text": [
      "\u001b[33m1\u001b[39m\n",
      "\u001b[33m2\u001b[39m\n"
     ]
    },
    {
     "name": "stderr",
     "output_type": "stream",
     "text": [
      "evalmachine.<anonymous>:7\n",
      "            throw new Error(\"fuck\");\n",
      "            ^\n",
      "\n",
      "Error: fuck\n",
      "    at Object.next (evalmachine.<anonymous>:7:19)\n",
      "    at evalmachine.<anonymous>:1:26\n",
      "    at evalmachine.<anonymous>:5:3\n",
      "\u001b[90m    at sigintHandlersWrap (vm.js:269:15)\u001b[39m\n",
      "\u001b[90m    at Script.runInContext (vm.js:124:14)\u001b[39m\n",
      "\u001b[90m    at Object.runInContext (vm.js:290:6)\u001b[39m\n",
      "    at Object.execute (D:\\work\\tslab\\dist\\executor.js:159:38)\n",
      "    at JupyterHandlerImpl.handleExecuteImpl (D:\\work\\tslab\\dist\\jupyter.js:206:38)\n",
      "    at D:\\work\\tslab\\dist\\jupyter.js:164:57\n",
      "    at async JupyterHandlerImpl.handleExecute (D:\\work\\tslab\\dist\\jupyter.js:164:21)\n"
     ]
    }
   ],
   "source": [
    "for (const x of fuck) {\n",
    "    console.log(x)\n",
    "}"
   ]
  },
  {
   "cell_type": "code",
   "execution_count": 44,
   "metadata": {},
   "outputs": [
    {
     "name": "stdout",
     "output_type": "stream",
     "text": [
      "\u001b[33m4\u001b[39m\n",
      "\u001b[33m5\u001b[39m\n",
      "\u001b[33m6\u001b[39m\n",
      "\u001b[33m7\u001b[39m\n",
      "\u001b[33m8\u001b[39m\n",
      "\u001b[33m9\u001b[39m\n",
      "\u001b[33m10\u001b[39m\n"
     ]
    }
   ],
   "source": [
    "for (const x of fuck) {\n",
    "    console.log(x)\n",
    "}"
   ]
  },
  {
   "cell_type": "code",
   "execution_count": 49,
   "metadata": {},
   "outputs": [
    {
     "name": "stdout",
     "output_type": "stream",
     "text": [
      "\u001b[33m4\u001b[39m\n",
      "\u001b[33m5\u001b[39m\n",
      "\u001b[33m6\u001b[39m\n",
      "\u001b[33m7\u001b[39m\n",
      "\u001b[33m8\u001b[39m\n",
      "\u001b[33m9\u001b[39m\n",
      "\u001b[33m10\u001b[39m\n"
     ]
    }
   ],
   "source": [
    "try {\n",
    "    for (const x of fuck) {\n",
    "        console.log(x)\n",
    "    }\n",
    "} catch(err) { console.log(\"error:\", err) }"
   ]
  },
  {
   "cell_type": "code",
   "execution_count": 50,
   "metadata": {},
   "outputs": [
    {
     "name": "stdout",
     "output_type": "stream",
     "text": [
      "f(): evaluated\n",
      "g(): evaluated\n",
      "g(): called\n",
      "f(): called\n"
     ]
    }
   ],
   "source": [
    "function f() {\n",
    "    console.log(\"f(): evaluated\");\n",
    "    return function (target, propertyKey: string, descriptor: PropertyDescriptor) {\n",
    "        console.log(\"f(): called\");\n",
    "    }\n",
    "}\n",
    "\n",
    "function g() {\n",
    "    console.log(\"g(): evaluated\");\n",
    "    return function (target, propertyKey: string, descriptor: PropertyDescriptor) {\n",
    "        console.log(\"g(): called\");\n",
    "    }\n",
    "}\n",
    "\n",
    "class C {\n",
    "    @f()\n",
    "    @g()\n",
    "    method() {}\n",
    "}"
   ]
  },
  {
   "cell_type": "code",
   "execution_count": 55,
   "metadata": {},
   "outputs": [
    {
     "name": "stdout",
     "output_type": "stream",
     "text": [
      "{ fuck: \u001b[90mundefined\u001b[39m }\n"
     ]
    }
   ],
   "source": [
    "Object.assign({}, {fuck: undefined})"
   ]
  },
  {
   "cell_type": "code",
   "execution_count": 56,
   "metadata": {},
   "outputs": [],
   "source": [
    "const objHash = require(\"object-hash\")"
   ]
  },
  {
   "cell_type": "code",
   "execution_count": 67,
   "metadata": {},
   "outputs": [
    {
     "name": "stdout",
     "output_type": "stream",
     "text": [
      "<Buffer fa 1d 2d b6 2d 4d 95 2e 20 31 45 2e 1b c1 dd ca d0 b1 92 c2 e2 9a 70 6f 11 ce 42 6a e5 ac dd ea>\n"
     ]
    }
   ],
   "source": [
    "objHash(null, { algorithm: \"sha256\", encoding: \"buffer\" })"
   ]
  },
  {
   "cell_type": "code",
   "execution_count": 60,
   "metadata": {},
   "outputs": [],
   "source": [
    "objHash.sha256"
   ]
  },
  {
   "cell_type": "code",
   "execution_count": 61,
   "metadata": {},
   "outputs": [
    {
     "name": "stdout",
     "output_type": "stream",
     "text": [
      "[\n",
      "  \u001b[32m'RSA-MD4'\u001b[39m,\n",
      "  \u001b[32m'RSA-MD5'\u001b[39m,\n",
      "  \u001b[32m'RSA-MDC2'\u001b[39m,\n",
      "  \u001b[32m'RSA-RIPEMD160'\u001b[39m,\n",
      "  \u001b[32m'RSA-SHA1'\u001b[39m,\n",
      "  \u001b[32m'RSA-SHA1-2'\u001b[39m,\n",
      "  \u001b[32m'RSA-SHA224'\u001b[39m,\n",
      "  \u001b[32m'RSA-SHA256'\u001b[39m,\n",
      "  \u001b[32m'RSA-SHA3-224'\u001b[39m,\n",
      "  \u001b[32m'RSA-SHA3-256'\u001b[39m,\n",
      "  \u001b[32m'RSA-SHA3-384'\u001b[39m,\n",
      "  \u001b[32m'RSA-SHA3-512'\u001b[39m,\n",
      "  \u001b[32m'RSA-SHA384'\u001b[39m,\n",
      "  \u001b[32m'RSA-SHA512'\u001b[39m,\n",
      "  \u001b[32m'RSA-SHA512/224'\u001b[39m,\n",
      "  \u001b[32m'RSA-SHA512/256'\u001b[39m,\n",
      "  \u001b[32m'RSA-SM3'\u001b[39m,\n",
      "  \u001b[32m'blake2b512'\u001b[39m,\n",
      "  \u001b[32m'blake2s256'\u001b[39m,\n",
      "  \u001b[32m'id-rsassa-pkcs1-v1_5-with-sha3-224'\u001b[39m,\n",
      "  \u001b[32m'id-rsassa-pkcs1-v1_5-with-sha3-256'\u001b[39m,\n",
      "  \u001b[32m'id-rsassa-pkcs1-v1_5-with-sha3-384'\u001b[39m,\n",
      "  \u001b[32m'id-rsassa-pkcs1-v1_5-with-sha3-512'\u001b[39m,\n",
      "  \u001b[32m'md4'\u001b[39m,\n",
      "  \u001b[32m'md4WithRSAEncryption'\u001b[39m,\n",
      "  \u001b[32m'md5'\u001b[39m,\n",
      "  \u001b[32m'md5-sha1'\u001b[39m,\n",
      "  \u001b[32m'md5WithRSAEncryption'\u001b[39m,\n",
      "  \u001b[32m'mdc2'\u001b[39m,\n",
      "  \u001b[32m'mdc2WithRSA'\u001b[39m,\n",
      "  \u001b[32m'ripemd'\u001b[39m,\n",
      "  \u001b[32m'ripemd160'\u001b[39m,\n",
      "  \u001b[32m'ripemd160WithRSA'\u001b[39m,\n",
      "  \u001b[32m'rmd160'\u001b[39m,\n",
      "  \u001b[32m'sha1'\u001b[39m,\n",
      "  \u001b[32m'sha1WithRSAEncryption'\u001b[39m,\n",
      "  \u001b[32m'sha224'\u001b[39m,\n",
      "  \u001b[32m'sha224WithRSAEncryption'\u001b[39m,\n",
      "  \u001b[32m'sha256'\u001b[39m,\n",
      "  \u001b[32m'sha256WithRSAEncryption'\u001b[39m,\n",
      "  \u001b[32m'sha3-224'\u001b[39m,\n",
      "  \u001b[32m'sha3-256'\u001b[39m,\n",
      "  \u001b[32m'sha3-384'\u001b[39m,\n",
      "  \u001b[32m'sha3-512'\u001b[39m,\n",
      "  \u001b[32m'sha384'\u001b[39m,\n",
      "  \u001b[32m'sha384WithRSAEncryption'\u001b[39m,\n",
      "  \u001b[32m'sha512'\u001b[39m,\n",
      "  \u001b[32m'sha512-224'\u001b[39m,\n",
      "  \u001b[32m'sha512-224WithRSAEncryption'\u001b[39m,\n",
      "  \u001b[32m'sha512-256'\u001b[39m,\n",
      "  \u001b[32m'sha512-256WithRSAEncryption'\u001b[39m,\n",
      "  \u001b[32m'sha512WithRSAEncryption'\u001b[39m,\n",
      "  \u001b[32m'shake128'\u001b[39m,\n",
      "  \u001b[32m'shake256'\u001b[39m,\n",
      "  \u001b[32m'sm3'\u001b[39m,\n",
      "  \u001b[32m'sm3WithRSAEncryption'\u001b[39m,\n",
      "  \u001b[32m'ssl3-md5'\u001b[39m,\n",
      "  \u001b[32m'ssl3-sha1'\u001b[39m,\n",
      "  \u001b[32m'whirlpool'\u001b[39m\n",
      "]\n"
     ]
    }
   ],
   "source": [
    "require(\"crypto\").getHashes()"
   ]
  },
  {
   "cell_type": "code",
   "execution_count": 100,
   "metadata": {},
   "outputs": [],
   "source": [
    "const p =await require(\"peer-id\").create()"
   ]
  },
  {
   "cell_type": "code",
   "execution_count": 101,
   "metadata": {},
   "outputs": [
    {
     "name": "stdout",
     "output_type": "stream",
     "text": [
      "<Buffer 12 20 af c5 e0 40 fd 1b fe f0 44 c8 2f 44 4b f1 06 4b 58 df c3 08 cb 19 4b bb 9c 66 da f1 85 f3 fd e4>\n"
     ]
    }
   ],
   "source": [
    "p._id"
   ]
  },
  {
   "cell_type": "code",
   "execution_count": 103,
   "metadata": {},
   "outputs": [
    {
     "name": "stdout",
     "output_type": "stream",
     "text": [
      "QmaAo4PKdQVc6M3QyoToD6RRWGF2DM4EB6LQP6aq3tTJRH\n"
     ]
    }
   ],
   "source": [
    "p.toB58String()"
   ]
  },
  {
   "cell_type": "code",
   "execution_count": 104,
   "metadata": {},
   "outputs": [
    {
     "name": "stdout",
     "output_type": "stream",
     "text": [
      "undefined\n"
     ]
    }
   ],
   "source": [
    "typeof undefined"
   ]
  },
  {
   "cell_type": "code",
   "execution_count": 5,
   "metadata": {},
   "outputs": [],
   "source": [
    "function ff({abc = \"abc\", def = \"def\"} = {}) { console.log(abc, def, arguments[0]) }"
   ]
  },
  {
   "cell_type": "code",
   "execution_count": 6,
   "metadata": {},
   "outputs": [
    {
     "name": "stdout",
     "output_type": "stream",
     "text": [
      "x y { abc: \u001b[32m'x'\u001b[39m, def: \u001b[32m'y'\u001b[39m }\n"
     ]
    }
   ],
   "source": [
    "ff({abc: \"x\", def: \"y\"})"
   ]
  },
  {
   "cell_type": "code",
   "execution_count": 2,
   "metadata": {},
   "outputs": [
    {
     "name": "stdout",
     "output_type": "stream",
     "text": [
      "\u001b[32m'abc'\u001b[39m\n"
     ]
    }
   ],
   "source": [
    "require(\"util\").inspect(\"abc\", {colors: true, depth: null})"
   ]
  },
  {
   "cell_type": "code",
   "execution_count": 19,
   "metadata": {},
   "outputs": [
    {
     "name": "stdout",
     "output_type": "stream",
     "text": [
      "PeerId {\n",
      "  _id: <Buffer 00 24 08 01 12 20 e6 90 7d 4b 6e 31 c6 ab da 85 6c 77 af 4b 9d 18 87 74 9f c4 e2 7d 9f c6 f6 b7 02 e6 7f 52 fe a5>,\n",
      "  _idB58String: \u001b[32m'12D3KooWRLPj68y7VseL7M1gmkbXY8AjHrehoScN9Yvf66opKkBN'\u001b[39m,\n",
      "  _privKey: \u001b[90mundefined\u001b[39m,\n",
      "  _pubKey: \u001b[90mundefined\u001b[39m\n",
      "}\n"
     ]
    }
   ],
   "source": [
    "await require(\"peer-id\").createFromB58String(\"12D3KooWRLPj68y7VseL7M1gmkbXY8AjHrehoScN9Yvf66opKkBN\")"
   ]
  },
  {
   "cell_type": "code",
   "execution_count": 12,
   "metadata": {},
   "outputs": [],
   "source": [
    "const p = (await require(\"peer-id\").create({keyType: \"Ed25519\"}))"
   ]
  },
  {
   "cell_type": "code",
   "execution_count": 17,
   "metadata": {},
   "outputs": [
    {
     "name": "stdout",
     "output_type": "stream",
     "text": [
      "Ed25519PrivateKey {\n",
      "  _key: Uint8Array [\n",
      "    \u001b[33m227\u001b[39m,  \u001b[33m86\u001b[39m,  \u001b[33m18\u001b[39m,  \u001b[33m50\u001b[39m, \u001b[33m219\u001b[39m,  \u001b[33m80\u001b[39m, \u001b[33m243\u001b[39m,  \u001b[33m37\u001b[39m,  \u001b[33m65\u001b[39m,   \u001b[33m2\u001b[39m,  \u001b[33m91\u001b[39m,\n",
      "    \u001b[33m219\u001b[39m, \u001b[33m243\u001b[39m,  \u001b[33m70\u001b[39m,  \u001b[33m22\u001b[39m,  \u001b[33m49\u001b[39m, \u001b[33m167\u001b[39m, \u001b[33m146\u001b[39m, \u001b[33m127\u001b[39m, \u001b[33m194\u001b[39m, \u001b[33m150\u001b[39m, \u001b[33m133\u001b[39m,\n",
      "    \u001b[33m156\u001b[39m, \u001b[33m234\u001b[39m, \u001b[33m249\u001b[39m, \u001b[33m120\u001b[39m,  \u001b[33m73\u001b[39m, \u001b[33m187\u001b[39m, \u001b[33m240\u001b[39m, \u001b[33m210\u001b[39m,  \u001b[33m37\u001b[39m, \u001b[33m172\u001b[39m, \u001b[33m160\u001b[39m,\n",
      "     \u001b[33m67\u001b[39m, \u001b[33m237\u001b[39m,   \u001b[33m2\u001b[39m,  \u001b[33m77\u001b[39m,   \u001b[33m2\u001b[39m, \u001b[33m127\u001b[39m,  \u001b[33m67\u001b[39m, \u001b[33m186\u001b[39m, \u001b[33m161\u001b[39m, \u001b[33m131\u001b[39m,  \u001b[33m11\u001b[39m,\n",
      "    \u001b[33m116\u001b[39m,  \u001b[33m21\u001b[39m, \u001b[33m183\u001b[39m,  \u001b[33m11\u001b[39m,   \u001b[33m2\u001b[39m, \u001b[33m214\u001b[39m, \u001b[33m184\u001b[39m, \u001b[33m120\u001b[39m,  \u001b[33m79\u001b[39m,  \u001b[33m85\u001b[39m,  \u001b[33m46\u001b[39m,\n",
      "     \u001b[33m57\u001b[39m, \u001b[33m143\u001b[39m, \u001b[33m123\u001b[39m,  \u001b[33m93\u001b[39m, \u001b[33m211\u001b[39m, \u001b[33m141\u001b[39m,  \u001b[33m76\u001b[39m, \u001b[33m181\u001b[39m, \u001b[33m167\u001b[39m\n",
      "  ],\n",
      "  _publicKey: Uint8Array [\n",
      "    \u001b[33m160\u001b[39m,  \u001b[33m67\u001b[39m, \u001b[33m237\u001b[39m,   \u001b[33m2\u001b[39m,  \u001b[33m77\u001b[39m,  \u001b[33m2\u001b[39m, \u001b[33m127\u001b[39m,  \u001b[33m67\u001b[39m,\n",
      "    \u001b[33m186\u001b[39m, \u001b[33m161\u001b[39m, \u001b[33m131\u001b[39m,  \u001b[33m11\u001b[39m, \u001b[33m116\u001b[39m, \u001b[33m21\u001b[39m, \u001b[33m183\u001b[39m,  \u001b[33m11\u001b[39m,\n",
      "      \u001b[33m2\u001b[39m, \u001b[33m214\u001b[39m, \u001b[33m184\u001b[39m, \u001b[33m120\u001b[39m,  \u001b[33m79\u001b[39m, \u001b[33m85\u001b[39m,  \u001b[33m46\u001b[39m,  \u001b[33m57\u001b[39m,\n",
      "    \u001b[33m143\u001b[39m, \u001b[33m123\u001b[39m,  \u001b[33m93\u001b[39m, \u001b[33m211\u001b[39m, \u001b[33m141\u001b[39m, \u001b[33m76\u001b[39m, \u001b[33m181\u001b[39m, \u001b[33m167\u001b[39m\n",
      "  ]\n",
      "}\n"
     ]
    }
   ],
   "source": [
    "console.dir(p.privKey)"
   ]
  },
  {
   "cell_type": "code",
   "execution_count": 13,
   "metadata": {},
   "outputs": [
    {
     "name": "stdout",
     "output_type": "stream",
     "text": [
      "PeerId {\n",
      "  _id: <Buffer 00 24 08 01 12 20 e6 90 7d 4b 6e 31 c6 ab da 85 6c 77 af 4b 9d 18 87 74 9f c4 e2 7d 9f c6 f6 b7 02 e6 7f 52 fe a5>,\n",
      "  _idB58String: \u001b[32m'12D3KooWRLPj68y7VseL7M1gmkbXY8AjHrehoScN9Yvf66opKkBN'\u001b[39m,\n",
      "  _privKey: \u001b[1mnull\u001b[22m,\n",
      "  _pubKey: Ed25519PublicKey {\n",
      "    _key: Uint8Array [\n",
      "      \u001b[33m230\u001b[39m, \u001b[33m144\u001b[39m, \u001b[33m125\u001b[39m,  \u001b[33m75\u001b[39m, \u001b[33m110\u001b[39m,  \u001b[33m49\u001b[39m, \u001b[33m198\u001b[39m,\n",
      "      \u001b[33m171\u001b[39m, \u001b[33m218\u001b[39m, \u001b[33m133\u001b[39m, \u001b[33m108\u001b[39m, \u001b[33m119\u001b[39m, \u001b[33m175\u001b[39m,  \u001b[33m75\u001b[39m,\n",
      "      \u001b[33m157\u001b[39m,  \u001b[33m24\u001b[39m, \u001b[33m135\u001b[39m, \u001b[33m116\u001b[39m, \u001b[33m159\u001b[39m, \u001b[33m196\u001b[39m, \u001b[33m226\u001b[39m,\n",
      "      \u001b[33m125\u001b[39m, \u001b[33m159\u001b[39m, \u001b[33m198\u001b[39m, \u001b[33m246\u001b[39m, \u001b[33m183\u001b[39m,   \u001b[33m2\u001b[39m, \u001b[33m230\u001b[39m,\n",
      "      \u001b[33m127\u001b[39m,  \u001b[33m82\u001b[39m, \u001b[33m254\u001b[39m, \u001b[33m165\u001b[39m\n",
      "    ]\n",
      "  }\n",
      "}\n"
     ]
    }
   ],
   "source": [
    "await require(\"peer-id\").createFromPubKey('CAESIOaQfUtuMcar2oVsd69LnRiHdJ/E4n2fxva3AuZ/Uv6l')"
   ]
  },
  {
   "cell_type": "code",
   "execution_count": 27,
   "metadata": {},
   "outputs": [],
   "source": [
    "let { x, y, z = 3 } = { x: 1, y: 2}"
   ]
  },
  {
   "cell_type": "code",
   "execution_count": 25,
   "metadata": {},
   "outputs": [
    {
     "name": "stdout",
     "output_type": "stream",
     "text": [
      "\u001b[33m1\u001b[39m\n"
     ]
    }
   ],
   "source": [
    "x"
   ]
  },
  {
   "cell_type": "code",
   "execution_count": 26,
   "metadata": {},
   "outputs": [
    {
     "name": "stdout",
     "output_type": "stream",
     "text": [
      "\u001b[33m2\u001b[39m\n"
     ]
    }
   ],
   "source": [
    "y"
   ]
  },
  {
   "cell_type": "code",
   "execution_count": 28,
   "metadata": {},
   "outputs": [
    {
     "name": "stdout",
     "output_type": "stream",
     "text": [
      "\u001b[33m3\u001b[39m\n"
     ]
    }
   ],
   "source": [
    "z"
   ]
  },
  {
   "cell_type": "code",
   "execution_count": 7,
   "metadata": {},
   "outputs": [],
   "source": [
    "function a() {\n",
    "    return new Promise(r => setTimeout(() => r(1), 1000))\n",
    "}"
   ]
  },
  {
   "cell_type": "code",
   "execution_count": 32,
   "metadata": {},
   "outputs": [
    {
     "name": "stdout",
     "output_type": "stream",
     "text": [
      "Promise { \u001b[33m1\u001b[39m }\n"
     ]
    }
   ],
   "source": [
    "function a() {\n",
    "    return (new Promise(r => r(1)))\n",
    "}\n",
    "\n",
    "a()"
   ]
  },
  {
   "cell_type": "code",
   "execution_count": 33,
   "metadata": {},
   "outputs": [
    {
     "name": "stdout",
     "output_type": "stream",
     "text": [
      "Promise { \u001b[36m<pending>\u001b[39m }\n"
     ]
    }
   ],
   "source": [
    "function a() {\n",
    "    return (new Promise(r => r(Promise.resolve(1))))\n",
    "}\n",
    "\n",
    "a()"
   ]
  },
  {
   "cell_type": "code",
   "execution_count": 31,
   "metadata": {},
   "outputs": [
    {
     "name": "stdout",
     "output_type": "stream",
     "text": [
      "Promise { \u001b[36m<pending>\u001b[39m }\n"
     ]
    }
   ],
   "source": [
    "function a() {\n",
    "    return (new Promise(r => r(new Promise(r => r(new Promise(r => r(1)))))))\n",
    "}\n",
    "\n",
    "a()"
   ]
  },
  {
   "cell_type": "code",
   "execution_count": 27,
   "metadata": {},
   "outputs": [
    {
     "name": "stdout",
     "output_type": "stream",
     "text": [
      "Promise { \u001b[33m1\u001b[39m }\n"
     ]
    }
   ],
   "source": [
    "Promise.resolve(1)"
   ]
  },
  {
   "cell_type": "code",
   "execution_count": 8,
   "metadata": {},
   "outputs": [],
   "source": [
    "var a = { c: 1 }"
   ]
  },
  {
   "cell_type": "code",
   "execution_count": 9,
   "metadata": {},
   "outputs": [
    {
     "name": "stdout",
     "output_type": "stream",
     "text": [
      "{ c: \u001b[33m1\u001b[39m, d: \u001b[33m2\u001b[39m }\n"
     ]
    }
   ],
   "source": [
    "Object.assign(a, { d: 2 })"
   ]
  },
  {
   "cell_type": "code",
   "execution_count": 10,
   "metadata": {},
   "outputs": [
    {
     "name": "stdout",
     "output_type": "stream",
     "text": [
      "{ c: \u001b[33m1\u001b[39m, d: \u001b[33m2\u001b[39m }\n"
     ]
    }
   ],
   "source": [
    "a"
   ]
  },
  {
   "cell_type": "code",
   "execution_count": 2,
   "metadata": {},
   "outputs": [
    {
     "name": "stderr",
     "output_type": "stream",
     "text": [
      "4:7 - The inferred type of '{ t = this }' references an inaccessible 'this' type. A type annotation is necessary.\n"
     ]
    }
   ],
   "source": [
    "class A {\n",
    "    msg;\n",
    "    \n",
    "    x({ t = this }) {\n",
    "        console.log(t.msg)\n",
    "    }\n",
    "}"
   ]
  },
  {
   "cell_type": "code",
   "execution_count": 22,
   "metadata": {},
   "outputs": [
    {
     "name": "stdout",
     "output_type": "stream",
     "text": [
      "\u001b[35m2020-01-31T16:00:00.000Z\u001b[39m\n"
     ]
    }
   ],
   "source": [
    "new Date(2020, 1, 1)"
   ]
  },
  {
   "cell_type": "code",
   "execution_count": 19,
   "metadata": {},
   "outputs": [
    {
     "name": "stdout",
     "output_type": "stream",
     "text": [
      "1\n"
     ]
    }
   ],
   "source": [
    "`${1}`"
   ]
  },
  {
   "cell_type": "code",
   "execution_count": 23,
   "metadata": {},
   "outputs": [
    {
     "name": "stdout",
     "output_type": "stream",
     "text": [
      "\u001b[33m1577836800000\u001b[39m\n"
     ]
    }
   ],
   "source": [
    "new Date(\"2020-01-01T00:00:00.000Z\").getTime()"
   ]
  },
  {
   "cell_type": "code",
   "execution_count": 25,
   "metadata": {},
   "outputs": [
    {
     "name": "stdout",
     "output_type": "stream",
     "text": [
      "\u001b[33m1577836801000\u001b[39m\n"
     ]
    }
   ],
   "source": [
    "new Date(\"2020-01-01T00:00:01.000Z\").getTime()"
   ]
  },
  {
   "cell_type": "code",
   "execution_count": 1,
   "metadata": {},
   "outputs": [
    {
     "name": "stdout",
     "output_type": "stream",
     "text": [
      "Mon May 18 2020 16:10:05 GMT+0800 (GMT+08:00)\n"
     ]
    }
   ],
   "source": [
    "`${new Date()}`"
   ]
  },
  {
   "cell_type": "code",
   "execution_count": 4,
   "metadata": {},
   "outputs": [
    {
     "name": "stderr",
     "output_type": "stream",
     "text": [
      "1:1 - BigInt literals are not available when targeting lower than ESNext.\n"
     ]
    }
   ],
   "source": [
    "11111111111111111111111111111111111111111111111111111111111111111111n"
   ]
  },
  {
   "cell_type": "code",
   "execution_count": 8,
   "metadata": {},
   "outputs": [
    {
     "name": "stdout",
     "output_type": "stream",
     "text": [
      "2020-05-18T15:05:24.977Z\n"
     ]
    }
   ],
   "source": [
    "new Date().toISOString()"
   ]
  },
  {
   "cell_type": "code",
   "execution_count": 9,
   "metadata": {},
   "outputs": [
    {
     "name": "stderr",
     "output_type": "stream",
     "text": [
      "1:5 - A 'for-await-of' statement is only allowed within an async function or async generator.\n"
     ]
    }
   ],
   "source": [
    "for await (const i of [1,2,3,4]) { console.log(i) }"
   ]
  },
  {
   "cell_type": "code",
   "execution_count": 14,
   "metadata": {},
   "outputs": [
    {
     "name": "stdout",
     "output_type": "stream",
     "text": [
      "\u001b[33m1\u001b[39m\n",
      "\u001b[33m2\u001b[39m\n",
      "\u001b[33m3\u001b[39m\n",
      "\u001b[33m4\u001b[39m\n"
     ]
    }
   ],
   "source": [
    "const x =(async () => {\n",
    "    for await (const i of [1,2,3,4]) { console.log(i) }\n",
    "})()"
   ]
  },
  {
   "cell_type": "code",
   "execution_count": 15,
   "metadata": {},
   "outputs": [],
   "source": [
    "await x"
   ]
  },
  {
   "cell_type": "code",
   "execution_count": 18,
   "metadata": {},
   "outputs": [
    {
     "name": "stderr",
     "output_type": "stream",
     "text": [
      "1:2 - Cannot find name 'await'.\n"
     ]
    }
   ],
   "source": [
    ";await ((async () => {\n",
    "    for await (const i of [1,2,3,4]) { console.log(i) }\n",
    "})())"
   ]
  },
  {
   "cell_type": "code",
   "execution_count": 21,
   "metadata": {},
   "outputs": [
    {
     "name": "stderr",
     "output_type": "stream",
     "text": [
      "1:1 - The left-hand side of an assignment expression may not be an optional property access.\n",
      "1:8 - Property 'a' does not exist on type '\"abc\"'.\n"
     ]
    }
   ],
   "source": [
    "\"abc\"?.a += 2"
   ]
  },
  {
   "cell_type": "code",
   "execution_count": 24,
   "metadata": {},
   "outputs": [],
   "source": [
    "const x = {a: 1}"
   ]
  },
  {
   "cell_type": "code",
   "execution_count": 27,
   "metadata": {},
   "outputs": [
    {
     "name": "stdout",
     "output_type": "stream",
     "text": [
      "[ \u001b[33m1\u001b[39m ]\n"
     ]
    }
   ],
   "source": [
    "Object.values(x)"
   ]
  },
  {
   "cell_type": "code",
   "execution_count": 28,
   "metadata": {},
   "outputs": [
    {
     "name": "stderr",
     "output_type": "stream",
     "text": [
      "1:3 - Property 'entries' does not exist on type '{ a: number; }'.\n"
     ]
    }
   ],
   "source": [
    "x.entries()"
   ]
  },
  {
   "cell_type": "code",
   "execution_count": 32,
   "metadata": {},
   "outputs": [
    {
     "name": "stderr",
     "output_type": "stream",
     "text": [
      "1:17 - Property 'entries' does not exist on type 'Object'.\n"
     ]
    }
   ],
   "source": [
    "(new Object(x)).entries()"
   ]
  },
  {
   "cell_type": "code",
   "execution_count": 1,
   "metadata": {},
   "outputs": [],
   "source": [
    "const a = new Map()"
   ]
  },
  {
   "cell_type": "code",
   "execution_count": 2,
   "metadata": {},
   "outputs": [],
   "source": [
    "const b = {a: 1}"
   ]
  },
  {
   "cell_type": "code",
   "execution_count": 3,
   "metadata": {},
   "outputs": [
    {
     "name": "stdout",
     "output_type": "stream",
     "text": [
      "{ a: \u001b[33m1\u001b[39m }\n"
     ]
    }
   ],
   "source": [
    "b"
   ]
  },
  {
   "cell_type": "code",
   "execution_count": 4,
   "metadata": {},
   "outputs": [
    {
     "name": "stdout",
     "output_type": "stream",
     "text": [
      "{ a: \u001b[33m1\u001b[39m }\n"
     ]
    }
   ],
   "source": [
    "b"
   ]
  },
  {
   "cell_type": "code",
   "execution_count": 5,
   "metadata": {},
   "outputs": [
    {
     "name": "stdout",
     "output_type": "stream",
     "text": [
      "Map { { a: \u001b[33m1\u001b[39m } => \u001b[33m1\u001b[39m }\n"
     ]
    }
   ],
   "source": [
    "a.set(b, 1)"
   ]
  },
  {
   "cell_type": "code",
   "execution_count": 7,
   "metadata": {},
   "outputs": [],
   "source": [
    "a.get({a: 1})"
   ]
  },
  {
   "cell_type": "code",
   "execution_count": 8,
   "metadata": {},
   "outputs": [
    {
     "name": "stdout",
     "output_type": "stream",
     "text": [
      "\u001b[33m1\u001b[39m\n"
     ]
    }
   ],
   "source": [
    "a.get(b)"
   ]
  },
  {
   "cell_type": "code",
   "execution_count": 9,
   "metadata": {},
   "outputs": [],
   "source": [
    "const x = {}"
   ]
  },
  {
   "cell_type": "code",
   "execution_count": 10,
   "metadata": {},
   "outputs": [
    {
     "name": "stdout",
     "output_type": "stream",
     "text": [
      "\u001b[33m2\u001b[39m\n"
     ]
    }
   ],
   "source": [
    "x[1] = 2"
   ]
  },
  {
   "cell_type": "code",
   "execution_count": 11,
   "metadata": {},
   "outputs": [
    {
     "name": "stdout",
     "output_type": "stream",
     "text": [
      "{ \u001b[32m'1'\u001b[39m: \u001b[33m2\u001b[39m }\n"
     ]
    }
   ],
   "source": [
    "x"
   ]
  },
  {
   "cell_type": "code",
   "execution_count": 12,
   "metadata": {},
   "outputs": [],
   "source": [
    "const x = new Set<string>()"
   ]
  },
  {
   "cell_type": "code",
   "execution_count": 15,
   "metadata": {},
   "outputs": [
    {
     "name": "stdout",
     "output_type": "stream",
     "text": [
      "Set { \u001b[32m'a'\u001b[39m }\n"
     ]
    }
   ],
   "source": [
    "x.add(\"a\")"
   ]
  },
  {
   "cell_type": "code",
   "execution_count": 16,
   "metadata": {},
   "outputs": [
    {
     "name": "stdout",
     "output_type": "stream",
     "text": [
      "Set { \u001b[32m'a'\u001b[39m }\n"
     ]
    }
   ],
   "source": [
    "x"
   ]
  },
  {
   "cell_type": "code",
   "execution_count": 63,
   "metadata": {},
   "outputs": [
    {
     "name": "stdout",
     "output_type": "stream",
     "text": [
      "{\n",
      "  ad: \u001b[32m'addDelegate'\u001b[39m,\n",
      "  ade: \u001b[32m'addDelegate'\u001b[39m,\n",
      "  adel: \u001b[32m'addDelegate'\u001b[39m,\n",
      "  adele: \u001b[32m'addDelegate'\u001b[39m,\n",
      "  adeleg: \u001b[32m'addDelegate'\u001b[39m,\n",
      "  adelega: \u001b[32m'addDelegate'\u001b[39m,\n",
      "  adelegat: \u001b[32m'addDelegate'\u001b[39m,\n",
      "  adelegate: \u001b[32m'addDelegate'\u001b[39m,\n",
      "  add: \u001b[32m'addDelegate'\u001b[39m,\n",
      "  adde: \u001b[32m'addDelegate'\u001b[39m,\n",
      "  addel: \u001b[32m'addDelegate'\u001b[39m,\n",
      "  addele: \u001b[32m'addDelegate'\u001b[39m,\n",
      "  addeleg: \u001b[32m'addDelegate'\u001b[39m,\n",
      "  addelega: \u001b[32m'addDelegate'\u001b[39m,\n",
      "  addelegat: \u001b[32m'addDelegate'\u001b[39m,\n",
      "  addelegate: \u001b[32m'addDelegate'\u001b[39m,\n",
      "  addd: \u001b[32m'addDelegate'\u001b[39m,\n",
      "  addde: \u001b[32m'addDelegate'\u001b[39m,\n",
      "  adddel: \u001b[32m'addDelegate'\u001b[39m,\n",
      "  adddele: \u001b[32m'addDelegate'\u001b[39m,\n",
      "  adddeleg: \u001b[32m'addDelegate'\u001b[39m,\n",
      "  adddelega: \u001b[32m'addDelegate'\u001b[39m,\n",
      "  adddelegat: \u001b[32m'addDelegate'\u001b[39m,\n",
      "  adddelegate: \u001b[32m'addDelegate'\u001b[39m,\n",
      "  at: \u001b[32m'addTransaction'\u001b[39m,\n",
      "  atr: \u001b[32m'addTransaction'\u001b[39m,\n",
      "  atra: \u001b[32m'addTransaction'\u001b[39m,\n",
      "  atran: \u001b[32m'addTransaction'\u001b[39m,\n",
      "  atrans: \u001b[32m'addTransaction'\u001b[39m,\n",
      "  atransa: \u001b[32m'addTransaction'\u001b[39m,\n",
      "  atransac: \u001b[32m'addTransaction'\u001b[39m,\n",
      "  atransact: \u001b[32m'addTransaction'\u001b[39m,\n",
      "  atransacti: \u001b[32m'addTransaction'\u001b[39m,\n",
      "  atransactio: \u001b[32m'addTransaction'\u001b[39m,\n",
      "  atransaction: \u001b[32m'addTransaction'\u001b[39m,\n",
      "  adt: \u001b[32m'addTransaction'\u001b[39m,\n",
      "  adtr: \u001b[32m'addTransaction'\u001b[39m,\n",
      "  adtra: \u001b[32m'addTransaction'\u001b[39m,\n",
      "  adtran: \u001b[32m'addTransaction'\u001b[39m,\n",
      "  adtrans: \u001b[32m'addTransaction'\u001b[39m,\n",
      "  adtransa: \u001b[32m'addTransaction'\u001b[39m,\n",
      "  adtransac: \u001b[32m'addTransaction'\u001b[39m,\n",
      "  adtransact: \u001b[32m'addTransaction'\u001b[39m,\n",
      "  adtransacti: \u001b[32m'addTransaction'\u001b[39m,\n",
      "  adtransactio: \u001b[32m'addTransaction'\u001b[39m,\n",
      "  adtransaction: \u001b[32m'addTransaction'\u001b[39m,\n",
      "  addt: \u001b[32m'addTransaction'\u001b[39m,\n",
      "  addtr: \u001b[32m'addTransaction'\u001b[39m,\n",
      "  addtra: \u001b[32m'addTransaction'\u001b[39m,\n",
      "  addtran: \u001b[32m'addTransaction'\u001b[39m,\n",
      "  addtrans: \u001b[32m'addTransaction'\u001b[39m,\n",
      "  addtransa: \u001b[32m'addTransaction'\u001b[39m,\n",
      "  addtransac: \u001b[32m'addTransaction'\u001b[39m,\n",
      "  addtransact: \u001b[32m'addTransaction'\u001b[39m,\n",
      "  addtransacti: \u001b[32m'addTransaction'\u001b[39m,\n",
      "  addtransactio: \u001b[32m'addTransaction'\u001b[39m,\n",
      "  addtransaction: \u001b[32m'addTransaction'\u001b[39m,\n",
      "  dd: \u001b[32m'deleteDelegate'\u001b[39m,\n",
      "  dde: \u001b[32m'deleteDelegate'\u001b[39m,\n",
      "  ddel: \u001b[32m'deleteDelegate'\u001b[39m,\n",
      "  ddele: \u001b[32m'deleteDelegate'\u001b[39m,\n",
      "  ddeleg: \u001b[32m'deleteDelegate'\u001b[39m,\n",
      "  ddelega: \u001b[32m'deleteDelegate'\u001b[39m,\n",
      "  ddelegat: \u001b[32m'deleteDelegate'\u001b[39m,\n",
      "  ddelegate: \u001b[32m'deleteDelegate'\u001b[39m,\n",
      "  ded: \u001b[32m'deleteDelegate'\u001b[39m,\n",
      "  dede: \u001b[32m'deleteDelegate'\u001b[39m,\n",
      "  dedel: \u001b[32m'deleteDelegate'\u001b[39m,\n",
      "  dedele: \u001b[32m'deleteDelegate'\u001b[39m,\n",
      "  dedeleg: \u001b[32m'deleteDelegate'\u001b[39m,\n",
      "  dedelega: \u001b[32m'deleteDelegate'\u001b[39m,\n",
      "  dedelegat: \u001b[32m'deleteDelegate'\u001b[39m,\n",
      "  dedelegate: \u001b[32m'deleteDelegate'\u001b[39m,\n",
      "  deld: \u001b[32m'deleteDelegate'\u001b[39m,\n",
      "  delde: \u001b[32m'deleteDelegate'\u001b[39m,\n",
      "  deldel: \u001b[32m'deleteDelegate'\u001b[39m,\n",
      "  deldele: \u001b[32m'deleteDelegate'\u001b[39m,\n",
      "  deldeleg: \u001b[32m'deleteDelegate'\u001b[39m,\n",
      "  deldelega: \u001b[32m'deleteDelegate'\u001b[39m,\n",
      "  deldelegat: \u001b[32m'deleteDelegate'\u001b[39m,\n",
      "  deldelegate: \u001b[32m'deleteDelegate'\u001b[39m,\n",
      "  deled: \u001b[32m'deleteDelegate'\u001b[39m,\n",
      "  delede: \u001b[32m'deleteDelegate'\u001b[39m,\n",
      "  deledel: \u001b[32m'deleteDelegate'\u001b[39m,\n",
      "  deledele: \u001b[32m'deleteDelegate'\u001b[39m,\n",
      "  deledeleg: \u001b[32m'deleteDelegate'\u001b[39m,\n",
      "  deledelega: \u001b[32m'deleteDelegate'\u001b[39m,\n",
      "  deledelegat: \u001b[32m'deleteDelegate'\u001b[39m,\n",
      "  deledelegate: \u001b[32m'deleteDelegate'\u001b[39m,\n",
      "  deletd: \u001b[32m'deleteDelegate'\u001b[39m,\n",
      "  deletde: \u001b[32m'deleteDelegate'\u001b[39m,\n",
      "  deletdel: \u001b[32m'deleteDelegate'\u001b[39m,\n",
      "  deletdele: \u001b[32m'deleteDelegate'\u001b[39m,\n",
      "  deletdeleg: \u001b[32m'deleteDelegate'\u001b[39m,\n",
      "  deletdelega: \u001b[32m'deleteDelegate'\u001b[39m,\n",
      "  deletdelegat: \u001b[32m'deleteDelegate'\u001b[39m,\n",
      "  deletdelegate: \u001b[32m'deleteDelegate'\u001b[39m,\n",
      "  deleted: \u001b[32m'deleteDelegate'\u001b[39m,\n",
      "  deletede: \u001b[32m'deleteDelegate'\u001b[39m,\n",
      "  deletedel: \u001b[32m'deleteDelegate'\u001b[39m,\n",
      "  deletedele: \u001b[32m'deleteDelegate'\u001b[39m,\n",
      "  deletedeleg: \u001b[32m'deleteDelegate'\u001b[39m,\n",
      "  deletedelega: \u001b[32m'deleteDelegate'\u001b[39m,\n",
      "  deletedelegat: \u001b[32m'deleteDelegate'\u001b[39m,\n",
      "  deletedelegate: \u001b[32m'deleteDelegate'\u001b[39m,\n",
      "  dt: \u001b[32m'deleteTransaction'\u001b[39m,\n",
      "  dtr: \u001b[32m'deleteTransaction'\u001b[39m,\n",
      "  dtra: \u001b[32m'deleteTransaction'\u001b[39m,\n",
      "  dtran: \u001b[32m'deleteTransaction'\u001b[39m,\n",
      "  dtrans: \u001b[32m'deleteTransaction'\u001b[39m,\n",
      "  dtransa: \u001b[32m'deleteTransaction'\u001b[39m,\n",
      "  dtransac: \u001b[32m'deleteTransaction'\u001b[39m,\n",
      "  dtransact: \u001b[32m'deleteTransaction'\u001b[39m,\n",
      "  dtransacti: \u001b[32m'deleteTransaction'\u001b[39m,\n",
      "  dtransactio: \u001b[32m'deleteTransaction'\u001b[39m,\n",
      "  dtransaction: \u001b[32m'deleteTransaction'\u001b[39m,\n",
      "  det: \u001b[32m'deleteTransaction'\u001b[39m,\n",
      "  detr: \u001b[32m'deleteTransaction'\u001b[39m,\n",
      "  detra: \u001b[32m'deleteTransaction'\u001b[39m,\n",
      "  detran: \u001b[32m'deleteTransaction'\u001b[39m,\n",
      "  detrans: \u001b[32m'deleteTransaction'\u001b[39m,\n",
      "  detransa: \u001b[32m'deleteTransaction'\u001b[39m,\n",
      "  detransac: \u001b[32m'deleteTransaction'\u001b[39m,\n",
      "  detransact: \u001b[32m'deleteTransaction'\u001b[39m,\n",
      "  detransacti: \u001b[32m'deleteTransaction'\u001b[39m,\n",
      "  detransactio: \u001b[32m'deleteTransaction'\u001b[39m,\n",
      "  detransaction: \u001b[32m'deleteTransaction'\u001b[39m,\n",
      "  delt: \u001b[32m'deleteTransaction'\u001b[39m,\n",
      "  deltr: \u001b[32m'deleteTransaction'\u001b[39m,\n",
      "  deltra: \u001b[32m'deleteTransaction'\u001b[39m,\n",
      "  deltran: \u001b[32m'deleteTransaction'\u001b[39m,\n",
      "  deltrans: \u001b[32m'deleteTransaction'\u001b[39m,\n",
      "  deltransa: \u001b[32m'deleteTransaction'\u001b[39m,\n",
      "  deltransac: \u001b[32m'deleteTransaction'\u001b[39m,\n",
      "  deltransact: \u001b[32m'deleteTransaction'\u001b[39m,\n",
      "  deltransacti: \u001b[32m'deleteTransaction'\u001b[39m,\n",
      "  deltransactio: \u001b[32m'deleteTransaction'\u001b[39m,\n",
      "  deltransaction: \u001b[32m'deleteTransaction'\u001b[39m,\n",
      "  delet: \u001b[32m'deleteTransaction'\u001b[39m,\n",
      "  deletr: \u001b[32m'deleteTransaction'\u001b[39m,\n",
      "  deletra: \u001b[32m'deleteTransaction'\u001b[39m,\n",
      "  deletran: \u001b[32m'deleteTransaction'\u001b[39m,\n",
      "  deletrans: \u001b[32m'deleteTransaction'\u001b[39m,\n",
      "  deletransa: \u001b[32m'deleteTransaction'\u001b[39m,\n",
      "  deletransac: \u001b[32m'deleteTransaction'\u001b[39m,\n",
      "  deletransact: \u001b[32m'deleteTransaction'\u001b[39m,\n",
      "  deletransacti: \u001b[32m'deleteTransaction'\u001b[39m,\n",
      "  deletransactio: \u001b[32m'deleteTransaction'\u001b[39m,\n",
      "  deletransaction: \u001b[32m'deleteTransaction'\u001b[39m,\n",
      "  delett: \u001b[32m'deleteTransaction'\u001b[39m,\n",
      "  delettr: \u001b[32m'deleteTransaction'\u001b[39m,\n",
      "  delettra: \u001b[32m'deleteTransaction'\u001b[39m,\n",
      "  delettran: \u001b[32m'deleteTransaction'\u001b[39m,\n",
      "  delettrans: \u001b[32m'deleteTransaction'\u001b[39m,\n",
      "  delettransa: \u001b[32m'deleteTransaction'\u001b[39m,\n",
      "  delettransac: \u001b[32m'deleteTransaction'\u001b[39m,\n",
      "  delettransact: \u001b[32m'deleteTransaction'\u001b[39m,\n",
      "  delettransacti: \u001b[32m'deleteTransaction'\u001b[39m,\n",
      "  delettransactio: \u001b[32m'deleteTransaction'\u001b[39m,\n",
      "  delettransaction: \u001b[32m'deleteTransaction'\u001b[39m,\n",
      "  deletet: \u001b[32m'deleteTransaction'\u001b[39m,\n",
      "  deletetr: \u001b[32m'deleteTransaction'\u001b[39m,\n",
      "  deletetra: \u001b[32m'deleteTransaction'\u001b[39m,\n",
      "  deletetran: \u001b[32m'deleteTransaction'\u001b[39m,\n",
      "  deletetrans: \u001b[32m'deleteTransaction'\u001b[39m,\n",
      "  deletetransa: \u001b[32m'deleteTransaction'\u001b[39m,\n",
      "  deletetransac: \u001b[32m'deleteTransaction'\u001b[39m,\n",
      "  deletetransact: \u001b[32m'deleteTransaction'\u001b[39m,\n",
      "  deletetransacti: \u001b[32m'deleteTransaction'\u001b[39m,\n",
      "  deletetransactio: \u001b[32m'deleteTransaction'\u001b[39m,\n",
      "  deletetransaction: \u001b[32m'deleteTransaction'\u001b[39m\n",
      "}\n"
     ]
    }
   ],
   "source": [
    "function camelCaseToWords(camel: string): string[] {\n",
    "  return (!camel) ? [] :\n",
    "    camel.split(/(?=[A-Z])/).map(word =>\n",
    "      word ? word.charAt(0).toLowerCase() + word.slice(1) : \"\")\n",
    "}\n",
    "\n",
    "const RuntimeLogicError = Error\n",
    "\n",
    "function xxx(subItemNameIt: string[]) {\n",
    "    const subItemNames = Array.from(subItemNameIt)\n",
    "    const subItemWordsArray = subItemNames.map(n => camelCaseToWords(n))\n",
    "    const namePrefixMaps: Record<string, {\n",
    "      extension: Set<string>,\n",
    "      uniqueCompletion: string,\n",
    "    }>[] = []\n",
    "\n",
    "    for (const subItemWords of subItemWordsArray) {\n",
    "      for (const [i, word] of subItemWords.entries()) {\n",
    "        if (namePrefixMaps[i] === undefined) {\n",
    "          namePrefixMaps[i] = {}\n",
    "        }\n",
    "\n",
    "        for (let prefixLength = 1; ; prefixLength++) {\n",
    "          const prefix = word.slice(0, prefixLength)\n",
    "\n",
    "          if (namePrefixMaps[i][prefix] === undefined) {\n",
    "            namePrefixMaps[i][prefix] = {\n",
    "              extension: new Set(),\n",
    "              uniqueCompletion: word,\n",
    "            }\n",
    "            break\n",
    "          } else {\n",
    "            if (namePrefixMaps[i][prefix].extension.size === 0) {\n",
    "              if (word !== namePrefixMaps[i][prefix].uniqueCompletion) {\n",
    "                // split\n",
    "                const existingWord = namePrefixMaps[i][prefix].uniqueCompletion\n",
    "                namePrefixMaps[i][prefix].uniqueCompletion = undefined\n",
    "                if (existingWord.length <= prefixLength || word.length <= prefixLength) {\n",
    "                  throw new RuntimeLogicError(`cannot distinguish: ${existingWord} and ${word}`)\n",
    "                }\n",
    "\n",
    "                const wordNextPrefix = word.slice(0, prefixLength + 1)\n",
    "                const existingWordNextPrefix = existingWord.slice(0, prefixLength + 1)\n",
    "                namePrefixMaps[i][prefix].extension.add(wordNextPrefix)\n",
    "                namePrefixMaps[i][prefix].extension.add(existingWordNextPrefix)\n",
    "                namePrefixMaps[i][wordNextPrefix] = {\n",
    "                  extension: new Set(),\n",
    "                  uniqueCompletion: word,\n",
    "                }\n",
    "                namePrefixMaps[i][existingWordNextPrefix] = {\n",
    "                  extension: new Set(),\n",
    "                  uniqueCompletion: existingWord,\n",
    "                }\n",
    "              } else {\n",
    "                break\n",
    "              }\n",
    "            }\n",
    "          }\n",
    "        }\n",
    "      }\n",
    "    }\n",
    "\n",
    "    const wordToShorthandsMaps: Record<string, string[]>[] = []\n",
    "    for (let wordI = 0; wordI < namePrefixMaps.length; wordI++) {\n",
    "      const map = namePrefixMaps[wordI]\n",
    "      wordToShorthandsMaps[wordI] = {}\n",
    "      const queue: [string, typeof map[\"someKey\"]][] = []\n",
    "      for (const [k, v] of Object.entries(map)) {\n",
    "        queue.push([k, v])\n",
    "      }\n",
    "\n",
    "      while (queue.length) {\n",
    "        const [k, v] = queue.shift()\n",
    "        if (v.extension.size === 0 && v.uniqueCompletion) {\n",
    "          const currentShorthands = []\n",
    "          wordToShorthandsMaps[wordI][v.uniqueCompletion] = currentShorthands\n",
    "          for (let prefixLength = k.length; prefixLength <= v.uniqueCompletion.length; prefixLength++) {\n",
    "            currentShorthands.push(v.uniqueCompletion.slice(0, prefixLength))\n",
    "          }\n",
    "          continue\n",
    "        }\n",
    "\n",
    "        if (v.extension.size) {\n",
    "          for (const newK of v.extension.keys()) {\n",
    "            queue.push([newK, map[newK]])\n",
    "          }\n",
    "        }\n",
    "      }\n",
    "    }\n",
    "\n",
    "    const allShorthandsToWord: Record<string, string> = {}\n",
    "\n",
    "    for (const [i, subItemWords] of subItemWordsArray.entries()) {\n",
    "      let currentAllShorthandPrefixes = [\"\"]\n",
    "      for (let wordI = 0; wordI < subItemWords.length; wordI++) {\n",
    "        currentAllShorthandPrefixes = currentAllShorthandPrefixes.flatMap(prefix =>\n",
    "          wordToShorthandsMaps[wordI][subItemWords[wordI]].map(currentWordShorthand => prefix + currentWordShorthand)\n",
    "        )\n",
    "      }\n",
    "      for (const shorthand of currentAllShorthandPrefixes) {\n",
    "        allShorthandsToWord[shorthand] = subItemNames[i]\n",
    "      }\n",
    "    }\n",
    "\n",
    "    console.log(require(\"util\").inspect(allShorthandsToWord, {colors: true, depth: null}))\n",
    "}\n",
    "xxx([\n",
    "    \"addDelegate\",\n",
    "    \"addTransaction\",\n",
    "    \"deleteDelegate\",\n",
    "    \"deleteTransaction\",\n",
    "    \"deleteTransaction\",\n",
    "])"
   ]
  },
  {
   "cell_type": "code",
   "execution_count": 48,
   "metadata": {},
   "outputs": [
    {
     "name": "stdout",
     "output_type": "stream",
     "text": [
      "{}\n"
     ]
    }
   ],
   "source": [
    "require(\"util\").inspect({})"
   ]
  },
  {
   "cell_type": "code",
   "execution_count": 65,
   "metadata": {},
   "outputs": [
    {
     "name": "stdout",
     "output_type": "stream",
     "text": [
      "[ \u001b[32m'b'\u001b[39m, \u001b[32m'za'\u001b[39m ]\n"
     ]
    }
   ],
   "source": [
    "[\"za\", \"b\"].sort()"
   ]
  },
  {
   "cell_type": "code",
   "execution_count": 66,
   "metadata": {},
   "outputs": [],
   "source": [
    "const x = new Map()"
   ]
  },
  {
   "cell_type": "code",
   "execution_count": 67,
   "metadata": {},
   "outputs": [],
   "source": [
    "x.get(undefined)"
   ]
  },
  {
   "cell_type": "code",
   "execution_count": 68,
   "metadata": {},
   "outputs": [
    {
     "name": "stderr",
     "output_type": "stream",
     "text": [
      "1:3 - Expected 1 arguments, but got 0.\n"
     ]
    }
   ],
   "source": [
    "x.get()"
   ]
  },
  {
   "cell_type": "code",
   "execution_count": null,
   "metadata": {},
   "outputs": [],
   "source": []
  }
 ],
 "metadata": {
  "kernelspec": {
   "display_name": "TypeScript",
   "language": "typescript",
   "name": "tslab"
  },
  "language_info": {
   "codemirror_mode": {
    "mode": "typescript",
    "name": "javascript",
    "typescript": true
   },
   "file_extension": ".ts",
   "mimetype": "text/typescript",
   "name": "typescript",
   "version": "3.7.2"
  }
 },
 "nbformat": 4,
 "nbformat_minor": 4
}
