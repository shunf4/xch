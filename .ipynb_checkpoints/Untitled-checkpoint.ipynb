{
 "cells": [
  {
   "cell_type": "code",
   "execution_count": 1,
   "metadata": {},
   "outputs": [],
   "source": [
    "const PeerId =require(\"peer-id\")"
   ]
  },
  {
   "cell_type": "code",
   "execution_count": 2,
   "metadata": {},
   "outputs": [
    {
     "name": "stdout",
     "output_type": "stream",
     "text": [
      "[Function: PeerId] {\n",
      "  isPeerId: \u001b[36m[Function]\u001b[39m,\n",
      "  create: \u001b[36m[AsyncFunction]\u001b[39m,\n",
      "  createFromHexString: \u001b[36m[Function]\u001b[39m,\n",
      "  createFromBytes: \u001b[36m[Function]\u001b[39m,\n",
      "  createFromB58String: \u001b[36m[Function]\u001b[39m,\n",
      "  createFromCID: \u001b[36m[Function]\u001b[39m,\n",
      "  createFromPubKey: \u001b[36m[AsyncFunction]\u001b[39m,\n",
      "  createFromPrivKey: \u001b[36m[AsyncFunction]\u001b[39m,\n",
      "  createFromJSON: \u001b[36m[AsyncFunction]\u001b[39m,\n",
      "  createFromProtobuf: \u001b[36m[AsyncFunction]\u001b[39m\n",
      "}\n"
     ]
    }
   ],
   "source": [
    "PeerId"
   ]
  },
  {
   "cell_type": "code",
   "execution_count": 10,
   "metadata": {},
   "outputs": [],
   "source": [
    "const p = await PeerId.create()"
   ]
  },
  {
   "cell_type": "code",
   "execution_count": 11,
   "metadata": {},
   "outputs": [
    {
     "name": "stdout",
     "output_type": "stream",
     "text": [
      "PeerId {\n",
      "  _id: <Buffer 12 20 d5 29 d5 e8 fd 6e 38 46 d4 86 b7 b5 b0 cc 58 ae 61 9d 00 98 a5 62 38 0b d2 f9 db e6 54 a2 9d d3>,\n",
      "  _idB58String: \u001b[32m'QmcgkYnJQwQJ3N18R4r2DWTK4Njn9CoF4MGM8GeJuow3TQ'\u001b[39m,\n",
      "  _privKey: RsaPrivateKey {\n",
      "    _key: {\n",
      "      kty: \u001b[32m'RSA'\u001b[39m,\n",
      "      n: \u001b[32m'xMHDPMTWPtRtszCmCxkahkoiI-S4vWb7B7ZGsRL9rTqY_PKjGDFJ_-EhMI54vcyJwSXG0uTXFYdmYelRGCSyvPgMKjLJCnMgSlmSvuElIX4zEdJhjjwieU2mIHuNUX-rsQ3o_w5oP_mnr06DiEx3hvY0h50Kja0lmKVkvKNWQM9L7a8rWXfwr5JXaNXPyK9A7B1LRDIe9qu0yhM3_L0Zm7J-9DFsH8PaqV4MuzJfsr9dbKQTrNfTsVtWlEeZQA48MxfKDRvcDby8JLRGFyh9eYXit-fQb2CTH3EJA7MPJ2w4WdaIPHrOQYA-AciS-WmJYKRvTFMTF-rygoWysVD9Ww'\u001b[39m,\n",
      "      e: \u001b[32m'AQAB'\u001b[39m,\n",
      "      d: \u001b[32m'rr9ghTJVDgxhOcq1ThoHoslotPRI138E6P6Mnmw9fYMTqWReUfhEvsvWTGfc-MUWe8LvaRLxrB9LYR51dbnyPT8YnsnoIC3Luf0ABiO0dKC-_s8Y8diazZ2XNDZHduCrPl8aVp0XHeq_cUWMMJupdOZqFR_25YmoYIBUje2Lh5aEua-DvNEv2qOSUr8l4ytRb3B8AISQtNKUprqe_ktOltSuFYhqnf06aarvPmXnqXeDfhIyvRSqYnbzPTSpjHyIxyrnUrd5mXzZaO1PyjMN9g6Ij3tsbJ5zIlbOl3bN0jsv3V1qby84agOWo0KM2P5DZSL-QWC4LYOBhCcbF5Xz4Q'\u001b[39m,\n",
      "      p: \u001b[32m'9I3qlGhXwQNKdjSfqCNvCEhGU_oouBwzzXOV0DQ9VuYuVtqko-7zqNcH3wrPhbZV5v4cblFzOWho1Bn0QZMPWENPk_6ayZIxedaMyf_vto4ZxzFcMfifzGYijbHzFOLPNV0O07d1X5ULjTJNqhRG1n6zqLZHliGFuIjjAXNRTsM'\u001b[39m,\n",
      "      q: \u001b[32m'zfcrZ2DsVm4wnjEnGf4ALCMWhaLTFDblCs7Id0B_WiDy_s8PbvVyicW3fQjzk9aA209f5EWJZC618rov_JWmWYBH8NKCdevIiggbFCe_FDMMetD4qK0ekGBm9TWGbSBJ7gX3dh2fKLO9OzMaL0bQZgFS_VU6p_U-lqDncGj7XYk'\u001b[39m,\n",
      "      dp: \u001b[32m'BQbBsokufI4XwrQ0L92Ck7YAlAtJOPeDbQ6aHqxkMlwKycg2qBPqOCcrRz9Oop3ryBKi_PV5m810kh9ycMKYByVjBlSuU8RIdgud2y0CfUsQZpKyJWjJyAa1YRouN9itj5g5DMrxg6Rpl15YUE2YYyI5iRcuA3zu5asSl14KZsc'\u001b[39m,\n",
      "      dq: \u001b[32m'vyaQ0r3iOYjEeFxX1MimMlBSO65UxeL4iSJGbF6gku4XdyKGSU1kgrbLxzBCl0cxidhNv5ZFn4O2e1IO7RWaMGBc5AUK7RPppylEsFz--mkyQN2mmS0qO4Ysp5CIdMjNtCk3dBijuOuvSLzxpUTMbo72DYVHDdAOyU8F3I6iEzk'\u001b[39m,\n",
      "      qi: \u001b[32m'P6ajut3c1rpVUHiZI1W5ackDlJ5uyh4Jg1nVZoT5m2fFZOhtKXy7BsW9FGwwfKweeOlWD_uoIOckNbs69GPAKrjHTM8SNrUrn5_BO9ADtWSyd10950RbBViTs0vF8qtFftHHF-pt-0bI6j9tNjjMo3k4Raf1Hrh-aCr1CoEQCvE'\u001b[39m\n",
      "    },\n",
      "    _publicKey: {\n",
      "      kty: \u001b[32m'RSA'\u001b[39m,\n",
      "      n: \u001b[32m'xMHDPMTWPtRtszCmCxkahkoiI-S4vWb7B7ZGsRL9rTqY_PKjGDFJ_-EhMI54vcyJwSXG0uTXFYdmYelRGCSyvPgMKjLJCnMgSlmSvuElIX4zEdJhjjwieU2mIHuNUX-rsQ3o_w5oP_mnr06DiEx3hvY0h50Kja0lmKVkvKNWQM9L7a8rWXfwr5JXaNXPyK9A7B1LRDIe9qu0yhM3_L0Zm7J-9DFsH8PaqV4MuzJfsr9dbKQTrNfTsVtWlEeZQA48MxfKDRvcDby8JLRGFyh9eYXit-fQb2CTH3EJA7MPJ2w4WdaIPHrOQYA-AciS-WmJYKRvTFMTF-rygoWysVD9Ww'\u001b[39m,\n",
      "      e: \u001b[32m'AQAB'\u001b[39m\n",
      "    }\n",
      "  },\n",
      "  _pubKey: RsaPublicKey {\n",
      "    _key: {\n",
      "      kty: \u001b[32m'RSA'\u001b[39m,\n",
      "      n: \u001b[32m'xMHDPMTWPtRtszCmCxkahkoiI-S4vWb7B7ZGsRL9rTqY_PKjGDFJ_-EhMI54vcyJwSXG0uTXFYdmYelRGCSyvPgMKjLJCnMgSlmSvuElIX4zEdJhjjwieU2mIHuNUX-rsQ3o_w5oP_mnr06DiEx3hvY0h50Kja0lmKVkvKNWQM9L7a8rWXfwr5JXaNXPyK9A7B1LRDIe9qu0yhM3_L0Zm7J-9DFsH8PaqV4MuzJfsr9dbKQTrNfTsVtWlEeZQA48MxfKDRvcDby8JLRGFyh9eYXit-fQb2CTH3EJA7MPJ2w4WdaIPHrOQYA-AciS-WmJYKRvTFMTF-rygoWysVD9Ww'\u001b[39m,\n",
      "      e: \u001b[32m'AQAB'\u001b[39m\n",
      "    }\n",
      "  }\n",
      "}\n"
     ]
    }
   ],
   "source": [
    "p"
   ]
  },
  {
   "cell_type": "code",
   "execution_count": 12,
   "metadata": {},
   "outputs": [
    {
     "name": "stdout",
     "output_type": "stream",
     "text": [
      "{\n",
      "  id: \u001b[32m'QmcgkYnJQwQJ3N18R4r2DWTK4Njn9CoF4MGM8GeJuow3TQ'\u001b[39m,\n",
      "  privKey: \u001b[32m'CAASqAkwggSkAgEAAoIBAQDEwcM8xNY+1G2zMKYLGRqGSiIj5Li9ZvsHtkaxEv2tOpj88qMYMUn/4SEwjni9zInBJcbS5NcVh2Zh6VEYJLK8+AwqMskKcyBKWZK+4SUhfjMR0mGOPCJ5TaYge41Rf6uxDej/Dmg/+aevToOITHeG9jSHnQqNrSWYpWS8o1ZAz0vtrytZd/Cvkldo1c/Ir0DsHUtEMh72q7TKEzf8vRmbsn70MWwfw9qpXgy7Ml+yv11spBOs19OxW1aUR5lADjwzF8oNG9wNvLwktEYXKH15heK359BvYJMfcQkDsw8nbDhZ1og8es5BgD4ByJL5aYlgpG9MUxMX6vKChbKxUP1bAgMBAAECggEBAK6/YIUyVQ4MYTnKtU4aB6LJaLT0SNd/BOj+jJ5sPX2DE6lkXlH4RL7L1kxn3PjFFnvC72kS8awfS2EedXW58j0/GJ7J6CAty7n9AAYjtHSgvv7PGPHYms2dlzQ2R3bgqz5fGladFx3qv3FFjDCbqXTmahUf9uWJqGCAVI3ti4eWhLmvg7zRL9qjklK/JeMrUW9wfACEkLTSlKa6nv5LTpbUrhWIap39Ommq7z5l56l3g34SMr0UqmJ28z00qYx8iMcq51K3eZl82WjtT8ozDfYOiI97bGyecyJWzpd2zdI7L91dam8vOGoDlqNCjNj+Q2Ui/kFguC2DgYQnGxeV8+ECgYEA9I3qlGhXwQNKdjSfqCNvCEhGU/oouBwzzXOV0DQ9VuYuVtqko+7zqNcH3wrPhbZV5v4cblFzOWho1Bn0QZMPWENPk/6ayZIxedaMyf/vto4ZxzFcMfifzGYijbHzFOLPNV0O07d1X5ULjTJNqhRG1n6zqLZHliGFuIjjAXNRTsMCgYEAzfcrZ2DsVm4wnjEnGf4ALCMWhaLTFDblCs7Id0B/WiDy/s8PbvVyicW3fQjzk9aA209f5EWJZC618rov/JWmWYBH8NKCdevIiggbFCe/FDMMetD4qK0ekGBm9TWGbSBJ7gX3dh2fKLO9OzMaL0bQZgFS/VU6p/U+lqDncGj7XYkCgYAFBsGyiS58jhfCtDQv3YKTtgCUC0k494NtDpoerGQyXArJyDaoE+o4JytHP06inevIEqL89XmbzXSSH3JwwpgHJWMGVK5TxEh2C53bLQJ9SxBmkrIlaMnIBrVhGi432K2PmDkMyvGDpGmXXlhQTZhjIjmJFy4DfO7lqxKXXgpmxwKBgQC/JpDSveI5iMR4XFfUyKYyUFI7rlTF4viJIkZsXqCS7hd3IoZJTWSCtsvHMEKXRzGJ2E2/lkWfg7Z7Ug7tFZowYFzkBQrtE+mnKUSwXP76aTJA3aaZLSo7hiynkIh0yM20KTd0GKO4669IvPGlRMxujvYNhUcN0A7JTwXcjqITOQKBgD+mo7rd3Na6VVB4mSNVuWnJA5SebsoeCYNZ1WaE+ZtnxWTobSl8uwbFvRRsMHysHnjpVg/7qCDnJDW7OvRjwCq4x0zPEja1K5+fwTvQA7VksnddPedEWwVYk7NLxfKrRX7RxxfqbftGyOo/bTY4zKN5OEWn9R64fmgq9QqBEArx'\u001b[39m,\n",
      "  pubKey: \u001b[32m'CAASpgIwggEiMA0GCSqGSIb3DQEBAQUAA4IBDwAwggEKAoIBAQDEwcM8xNY+1G2zMKYLGRqGSiIj5Li9ZvsHtkaxEv2tOpj88qMYMUn/4SEwjni9zInBJcbS5NcVh2Zh6VEYJLK8+AwqMskKcyBKWZK+4SUhfjMR0mGOPCJ5TaYge41Rf6uxDej/Dmg/+aevToOITHeG9jSHnQqNrSWYpWS8o1ZAz0vtrytZd/Cvkldo1c/Ir0DsHUtEMh72q7TKEzf8vRmbsn70MWwfw9qpXgy7Ml+yv11spBOs19OxW1aUR5lADjwzF8oNG9wNvLwktEYXKH15heK359BvYJMfcQkDsw8nbDhZ1og8es5BgD4ByJL5aYlgpG9MUxMX6vKChbKxUP1bAgMBAAE='\u001b[39m\n",
      "}\n"
     ]
    }
   ],
   "source": [
    "p.toJSON()"
   ]
  },
  {
   "cell_type": "code",
   "execution_count": 13,
   "metadata": {},
   "outputs": [
    {
     "name": "stdout",
     "output_type": "stream",
     "text": [
      "PeerId {\n",
      "  _id: <Buffer 18 04 37 3c f0 e6 42>,\n",
      "  _idB58String: \u001b[32m'undefined'\u001b[39m,\n",
      "  _privKey: \u001b[1mnull\u001b[22m,\n",
      "  _pubKey: \u001b[90mundefined\u001b[39m\n",
      "}\n"
     ]
    }
   ],
   "source": [
    "await PeerId.createFromJSON(Object.assign(p.toJSON(), {privKey: undefined, pubKey: undefined, id: undefined}))"
   ]
  },
  {
   "cell_type": "code",
   "execution_count": 12,
   "metadata": {},
   "outputs": [
    {
     "name": "stderr",
     "output_type": "stream",
     "text": [
      "1:1 - Cannot find name 'Object'.\n"
     ]
    }
   ],
   "source": [
    "Object"
   ]
  },
  {
   "cell_type": "code",
   "execution_count": null,
   "metadata": {},
   "outputs": [],
   "source": []
  }
 ],
 "metadata": {
  "kernelspec": {
   "display_name": "TypeScript",
   "language": "typescript",
   "name": "tslab"
  },
  "language_info": {
   "codemirror_mode": {
    "mode": "typescript",
    "name": "javascript",
    "typescript": true
   },
   "file_extension": ".ts",
   "mimetype": "text/typescript",
   "name": "typescript",
   "version": "3.7.2"
  }
 },
 "nbformat": 4,
 "nbformat_minor": 4
}
